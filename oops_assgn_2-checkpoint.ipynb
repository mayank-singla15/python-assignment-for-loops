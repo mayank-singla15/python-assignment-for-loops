{
 "cells": [
  {
   "cell_type": "code",
   "execution_count": 1,
   "id": "4f451075-dece-4560-ad02-97bbf609a0fb",
   "metadata": {},
   "outputs": [
    {
     "data": {
      "text/plain": [
       "'Q1. Which function is used to open a file? What are the different modes of opening a file? Explain each mode\\nof file opening.'"
      ]
     },
     "execution_count": 1,
     "metadata": {},
     "output_type": "execute_result"
    }
   ],
   "source": [
    "'''Q1. Which function is used to open a file? What are the different modes of opening a file? Explain each mode\n",
    "of file opening.'''"
   ]
  },
  {
   "cell_type": "code",
   "execution_count": 35,
   "id": "7f04b0d7-5f29-4045-83ba-675915b0434e",
   "metadata": {},
   "outputs": [],
   "source": [
    "# To open a file in Python, the built-in function open() is used.\n",
    "f=open ('test.txt')\n",
    "content = f.read()\n"
   ]
  },
  {
   "cell_type": "code",
   "execution_count": 36,
   "id": "7444fa4d-5f23-4690-acc9-b3cf24b2032e",
   "metadata": {},
   "outputs": [
    {
     "name": "stdout",
     "output_type": "stream",
     "text": [
      "this mode will overwrite this mode will apend \n",
      "\n"
     ]
    }
   ],
   "source": [
    "# Different Modes of Opening a File:\n",
    "# 'r' (Read Mode):\n",
    "\n",
    "# Opens the file for reading.\n",
    "\n",
    "# If the file does not exist, it throws a FileNotFoundError.\n",
    "\n",
    "# This is the default mode if you do not specify one.\n",
    "\n",
    "with open('test.txt','r') as f:\n",
    "    content=f.read()\n",
    "    print(content)"
   ]
  },
  {
   "cell_type": "code",
   "execution_count": 37,
   "id": "a4207a0b-1610-4a4f-815e-f6248ef64a58",
   "metadata": {},
   "outputs": [],
   "source": [
    "# 'w' (Write Mode):\n",
    "\n",
    "# Opens the file for writing.\n",
    "\n",
    "# If the file already exists, it overwrites the content.\n",
    "\n",
    "# If the file does not exist, it creates a new /one.\n",
    "\n",
    "with open('test.txt','w') as f:\n",
    "    f.write('this mode will overwrite ')\n",
    "    "
   ]
  },
  {
   "cell_type": "code",
   "execution_count": 38,
   "id": "c05050a9-a09d-4a06-8dbe-f1d8781e2b72",
   "metadata": {},
   "outputs": [],
   "source": [
    "# 'a' (Append Mode):\n",
    "\n",
    "# Opens the file for writing, but does not overwrite the existing content.\n",
    "\n",
    "# If the file does not exist, it creates a new one.\n",
    "\n",
    "# Data is written at the end of the file.\n",
    "\n"
   ]
  },
  {
   "cell_type": "code",
   "execution_count": 39,
   "id": "3adb0ddc-e86a-4685-a1b3-23e83531b09e",
   "metadata": {},
   "outputs": [],
   "source": [
    "with open('test.txt','a') as f:\n",
    "    f.write('this mode will apend \\n')"
   ]
  },
  {
   "cell_type": "code",
   "execution_count": 40,
   "id": "f3b4f884-90a5-4123-aed4-0664f39a6dcc",
   "metadata": {},
   "outputs": [
    {
     "ename": "FileExistsError",
     "evalue": "[Errno 17] File exists: 'example.txt'",
     "output_type": "error",
     "traceback": [
      "\u001b[1;31m---------------------------------------------------------------------------\u001b[0m",
      "\u001b[1;31mFileExistsError\u001b[0m                           Traceback (most recent call last)",
      "Cell \u001b[1;32mIn[40], line 7\u001b[0m\n\u001b[0;32m      1\u001b[0m \u001b[38;5;66;03m# /'x' (Exclusive Creation Mode):\u001b[39;00m\n\u001b[0;32m      2\u001b[0m \n\u001b[0;32m      3\u001b[0m \u001b[38;5;66;03m# Creates a new file, but it raises a FileExistsError if the file already exists.\u001b[39;00m\n\u001b[0;32m      4\u001b[0m \n\u001b[0;32m      5\u001b[0m \u001b[38;5;66;03m# This mode is useful when you want to create a file only if it doesn't already exist.\u001b[39;00m\n\u001b[1;32m----> 7\u001b[0m f\u001b[38;5;241m=\u001b[39m \u001b[38;5;28;43mopen\u001b[39;49m\u001b[43m(\u001b[49m\u001b[38;5;124;43m'\u001b[39;49m\u001b[38;5;124;43mexample.txt\u001b[39;49m\u001b[38;5;124;43m'\u001b[39;49m\u001b[43m,\u001b[49m\u001b[38;5;124;43m'\u001b[39;49m\u001b[38;5;124;43mx\u001b[39;49m\u001b[38;5;124;43m'\u001b[39;49m\u001b[43m)\u001b[49m\n",
      "File \u001b[1;32m~\\AppData\\Local\\Programs\\Python\\Python313\\Lib\\site-packages\\IPython\\core\\interactiveshell.py:324\u001b[0m, in \u001b[0;36m_modified_open\u001b[1;34m(file, *args, **kwargs)\u001b[0m\n\u001b[0;32m    317\u001b[0m \u001b[38;5;28;01mif\u001b[39;00m file \u001b[38;5;129;01min\u001b[39;00m {\u001b[38;5;241m0\u001b[39m, \u001b[38;5;241m1\u001b[39m, \u001b[38;5;241m2\u001b[39m}:\n\u001b[0;32m    318\u001b[0m     \u001b[38;5;28;01mraise\u001b[39;00m \u001b[38;5;167;01mValueError\u001b[39;00m(\n\u001b[0;32m    319\u001b[0m         \u001b[38;5;124mf\u001b[39m\u001b[38;5;124m\"\u001b[39m\u001b[38;5;124mIPython won\u001b[39m\u001b[38;5;124m'\u001b[39m\u001b[38;5;124mt let you open fd=\u001b[39m\u001b[38;5;132;01m{\u001b[39;00mfile\u001b[38;5;132;01m}\u001b[39;00m\u001b[38;5;124m by default \u001b[39m\u001b[38;5;124m\"\u001b[39m\n\u001b[0;32m    320\u001b[0m         \u001b[38;5;124m\"\u001b[39m\u001b[38;5;124mas it is likely to crash IPython. If you know what you are doing, \u001b[39m\u001b[38;5;124m\"\u001b[39m\n\u001b[0;32m    321\u001b[0m         \u001b[38;5;124m\"\u001b[39m\u001b[38;5;124myou can use builtins\u001b[39m\u001b[38;5;124m'\u001b[39m\u001b[38;5;124m open.\u001b[39m\u001b[38;5;124m\"\u001b[39m\n\u001b[0;32m    322\u001b[0m     )\n\u001b[1;32m--> 324\u001b[0m \u001b[38;5;28;01mreturn\u001b[39;00m \u001b[43mio_open\u001b[49m\u001b[43m(\u001b[49m\u001b[43mfile\u001b[49m\u001b[43m,\u001b[49m\u001b[43m \u001b[49m\u001b[38;5;241;43m*\u001b[39;49m\u001b[43margs\u001b[49m\u001b[43m,\u001b[49m\u001b[43m \u001b[49m\u001b[38;5;241;43m*\u001b[39;49m\u001b[38;5;241;43m*\u001b[39;49m\u001b[43mkwargs\u001b[49m\u001b[43m)\u001b[49m\n",
      "\u001b[1;31mFileExistsError\u001b[0m: [Errno 17] File exists: 'example.txt'"
     ]
    }
   ],
   "source": [
    "# /'x' (Exclusive Creation Mode):\n",
    "\n",
    "# Creates a new file, but it raises a FileExistsError if the file already exists.\n",
    "\n",
    "# This mode is useful when you want to create a file only if it doesn't already exist.\n",
    "\n",
    "f= open('example.txt','x')"
   ]
  },
  {
   "cell_type": "code",
   "execution_count": 41,
   "id": "b981cb7d-7a45-43a5-8ecc-3a58ab22b30b",
   "metadata": {},
   "outputs": [],
   "source": [
    "# 'b' (Binary Mode):\n",
    "\n",
    "# This mode is used to open the file in binary mode (as opposed to text mode).\n",
    "\n",
    "# You can combine it with other modes, such as 'rb' or 'wb'.\n",
    "with open('example_image.jpg','rb') as file:\n",
    "    content = file.read()\n",
    "    print(content)\n",
    "binary_data = b'\\x89PNG\\r\\n\\x1a\\n'\n",
    "with open('output_image,png','wb') as file:\n",
    "    file.write(binary_data)\n",
    "\n",
    "\n"
   ]
  },
  {
   "cell_type": "code",
   "execution_count": 42,
   "id": "47b94f54-f6f0-4a67-b874-f39aa9b7b35e",
   "metadata": {},
   "outputs": [],
   "source": [
    "# 't' (Text Mode):\n",
    "\n",
    "# This is the default mode.\n",
    "\n",
    "# The file is opened in text mode, where data is handled as strings.\n",
    "\n",
    "# You can combine it with other modes, but text mode is the default, so 't' is usually optional.\n",
    "\n",
    "with open('example.txt', 'rt') as file"
   ]
  },
  {
   "cell_type": "code",
   "execution_count": 48,
   "id": "325054ce-ffc3-4372-8b2f-867df0d05e4c",
   "metadata": {},
   "outputs": [
    {
     "name": "stdout",
     "output_type": "stream",
     "text": [
      "this mode will overwrite \n"
     ]
    }
   ],
   "source": [
    "# 'r+' (Read and Write Mode):\n",
    "\n",
    "# Opens the file for both reading and writing.\n",
    "\n",
    "# If the file does not exist, it throws a FileNotFoundError.\n",
    "\n",
    "# It does not truncate the file, so you can both read from and write to it.\n",
    "with open('test.txt','r+') as f:\n",
    "    f.write('this mode will overwrite ')\n",
    "    f.seek(0)\n",
    "    content=f.read()\n",
    "    print(content)\n",
    "\n"
   ]
  },
  {
   "cell_type": "code",
   "execution_count": null,
   "id": "35cd37e9-e92b-4104-8f16-21a50a165b11",
   "metadata": {},
   "outputs": [],
   "source": [
    "# 'w+' (Write and Read Mode):\n",
    "\n",
    "# Opens the file for both reading and writing.\n",
    "\n",
    "# If the file exists, it overwrites the file.\n",
    "\n",
    "# If the file does not exist, it creates a new one."
   ]
  },
  {
   "cell_type": "code",
   "execution_count": 49,
   "id": "e075ee51-0937-43ab-a5f8-f91a75e08016",
   "metadata": {},
   "outputs": [
    {
     "name": "stdout",
     "output_type": "stream",
     "text": [
      "this mode will overwrite 6 \n"
     ]
    }
   ],
   "source": [
    "with open('test.txt','w+') as f:\n",
    "    f.write('this mode will overwrite 6 ')\n",
    "    f.seek(0)\n",
    "    content=f.read()\n",
    "    print(content)"
   ]
  },
  {
   "cell_type": "code",
   "execution_count": 46,
   "id": "41287a91-ff31-4626-8850-ca450bb9f484",
   "metadata": {},
   "outputs": [],
   "source": [
    "# 'a+' (Append and Read Mode):\n",
    "\n",
    "# Opens the file for both reading and appending.\n",
    "\n",
    "# If the file does not exist, it creates a new one.\n",
    "\n",
    "# The file is opened in append mode, so new data is added to the end, but you can also read the existing content.\n",
    "f = open(\"example.txt\", \"a+\")"
   ]
  },
  {
   "cell_type": "code",
   "execution_count": 51,
   "id": "d0e85fe6-6128-40ee-a61e-1429bae24cab",
   "metadata": {},
   "outputs": [
    {
     "data": {
      "text/plain": [
       "'Q2. Why close() function is used? Why is it important to close a file?\\nThe close() function is used to close an open file in Python. Once you’re done with reading from or writing to a file, it’s essential to close it using file.close().\\n\\nReleases System Resources:\\n\\nEach open file consumes a system resource, such as a file descriptor. If files remain open, they can exhaust the available resources, which may cause the program to fail or the system to run out of file handles. By closing the file, you free up these resources.\\n\\nEnsures Data Integrity:\\n\\nWhen you write data to a file, it may not be immediately saved. File systems often buffer the data in memory before writing it to disk. If you don’t close the file, some of the data might not be written properly, leading to data loss or corruption.\\n\\nclose() ensures that any buffered data is written to disk properly before the file is closed.\\n\\nPrevents Errors in File Handling:\\n\\nIf a file remains open after an operation, any subsequent attempts to access or modify the file may lead to unexpected behavior, such as errors or the inability to open the file again.\\n\\nImproves Performance:\\n\\nClosing files promptly can also help improve performance in programs that open and close files repeatedly. This ensures that no unnecessary file handlers are kept open, allowing for optimal resource management.\\n\\n'"
      ]
     },
     "execution_count": 51,
     "metadata": {},
     "output_type": "execute_result"
    }
   ],
   "source": [
    "'''Q2. Why close() function is used? Why is it important to close a file?\n",
    "The close() function is used to close an open file in Python. Once you’re done with reading from or writing to a file, it’s essential to close it using file.close().\n",
    "\n",
    "Releases System Resources:\n",
    "\n",
    "Each open file consumes a system resource, such as a file descriptor. If files remain open, they can exhaust the available resources, which may cause the program to fail or the system to run out of file handles. By closing the file, you free up these resources.\n",
    "\n",
    "Ensures Data Integrity:\n",
    "\n",
    "When you write data to a file, it may not be immediately saved. File systems often buffer the data in memory before writing it to disk. If you don’t close the file, some of the data might not be written properly, leading to data loss or corruption.\n",
    "\n",
    "close() ensures that any buffered data is written to disk properly before the file is closed.\n",
    "\n",
    "Prevents Errors in File Handling:\n",
    "\n",
    "If a file remains open after an operation, any subsequent attempts to access or modify the file may lead to unexpected behavior, such as errors or the inability to open the file again.\n",
    "\n",
    "Improves Performance:\n",
    "\n",
    "Closing files promptly can also help improve performance in programs that open and close files repeatedly. This ensures that no unnecessary file handlers are kept open, allowing for optimal resource management.\n",
    "\n",
    "'''"
   ]
  },
  {
   "cell_type": "code",
   "execution_count": 52,
   "id": "4de1c23f-f8b5-4b1e-ba9c-01ddd2843aef",
   "metadata": {},
   "outputs": [],
   "source": [
    "file = open('example.txt', 'w')\n",
    "file.write('Hello, world!')\n",
    "file.close()"
   ]
  },
  {
   "cell_type": "code",
   "execution_count": 53,
   "id": "9963951d-400b-4fca-a947-59a6fe275b28",
   "metadata": {},
   "outputs": [
    {
     "data": {
      "text/plain": [
       "'Q3. Write a python program to create a text file. Write ‘I want to become a Data Scientist’ in that file. Then\\nclose the file. Open this file and read the content of the file.\\n'"
      ]
     },
     "execution_count": 53,
     "metadata": {},
     "output_type": "execute_result"
    }
   ],
   "source": [
    "'''Q3. Write a python program to create a text file. Write ‘I want to become a Data Scientist’ in that file. Then\n",
    "close the file. Open this file and read the content of the file.\n",
    "'''"
   ]
  },
  {
   "cell_type": "code",
   "execution_count": 57,
   "id": "41e3d860-b597-41ed-ac47-31f17691046e",
   "metadata": {},
   "outputs": [
    {
     "name": "stdout",
     "output_type": "stream",
     "text": [
      "I want to become a Data Scientist\n"
     ]
    }
   ],
   "source": [
    "with open ('assgn.txt','w+') as f:\n",
    "    f.write( 'I want to become a Data Scientist')\n",
    "    f.seek(0)\n",
    "    print(f.read())"
   ]
  },
  {
   "cell_type": "code",
   "execution_count": 58,
   "id": "854b5157-5f27-4393-98bd-fa9e2c7d2bcc",
   "metadata": {},
   "outputs": [
    {
     "data": {
      "text/plain": [
       "'Q4. Explain the following with python code: read(), readline() and readlines().'"
      ]
     },
     "execution_count": 58,
     "metadata": {},
     "output_type": "execute_result"
    }
   ],
   "source": [
    "'''Q4. Explain the following with python code: read(), readline() and readlines().'''"
   ]
  },
  {
   "cell_type": "code",
   "execution_count": 82,
   "id": "4d9bdcdc-ec10-46ee-825b-9502f678f9ba",
   "metadata": {},
   "outputs": [
    {
     "name": "stdout",
     "output_type": "stream",
     "text": [
      "Your code has a small issue: when you open a file in 'r+' mode'\n",
      "', it opens the file for both reading and writing, but the file pointer starts at the beginning of the file.'\n",
      "' So, when you write to the file with f.write(), it will overwrite the content starting from the beginning. However, since the file pointer moves to the end after the write() operation, the read() operation won’t work as expected because the pointer is already at the end of the file.\n"
     ]
    }
   ],
   "source": [
    "# The read() method reads the entire content of the file and returns it as a single string.\n",
    "\n",
    "# It can take an optional argument specifying the number of bytes to read. If no argument is provided, it reads the entire file.\n",
    "\n",
    "# Useful when you want to get the entire file content in one go.\n",
    "\n",
    "# Example:\n",
    "with open('test.txt','w') as f:\n",
    "    f.write(\"Your code has a small issue: when you open a file in 'r+' mode'\\n', it opens the file for both reading and writing, but the file pointer starts at the beginning of the file.'\\n' So, when you write to the file with f.write(), it will overwrite the content starting from the beginning. However, since the file pointer moves to the end after the write() operation, the read() operation won’t work as expected because the pointer is already at the end of the file.\")\n",
    "\n",
    "with open('test.txt') as f:\n",
    "    content= f.read()\n",
    "    print(content)\n"
   ]
  },
  {
   "cell_type": "code",
   "execution_count": 85,
   "id": "6b26b433-a15a-44e0-a759-7941e9b80fbc",
   "metadata": {},
   "outputs": [
    {
     "name": "stdout",
     "output_type": "stream",
     "text": [
      "Your code has a small issue: when you open a file in 'r+' mode'\n",
      "\n",
      "', it opens the file for both reading and writing, but the file pointer starts at the beginning of the file.'\n",
      "\n"
     ]
    }
   ],
   "source": [
    "with open('test.txt') as f:\n",
    "    content= f.readline()\n",
    "    print(content)\n",
    "    content2= f.readline()\n",
    "    print(content2)"
   ]
  },
  {
   "cell_type": "code",
   "execution_count": 88,
   "id": "fb9f990f-9fe4-4395-aca6-35b40e54a106",
   "metadata": {},
   "outputs": [
    {
     "name": "stdout",
     "output_type": "stream",
     "text": [
      "[\"Your code has a small issue: when you open a file in 'r+' mode'\\n\", \"', it opens the file for both reading and writing, but the file pointer starts at the beginning of the file.'\\n\", \"' So, when you write to the file with f.write(), it will overwrite the content starting from the beginning. However, since the file pointer moves to the end after the write() operation, the read() operation won’t work as expected because the pointer is already at the end of the file.\"]\n",
      "\n"
     ]
    }
   ],
   "source": [
    "with open('test.txt') as f:\n",
    "    content= f.readlines()\n",
    "    print(content)\n",
    "    content2= f.readline()\n",
    "    print(content2)"
   ]
  },
  {
   "cell_type": "code",
   "execution_count": 89,
   "id": "9578585f-8f75-479b-a2c4-9e828a837392",
   "metadata": {},
   "outputs": [
    {
     "data": {
      "text/plain": [
       "'Q6. Explain the write() and writelines() functions. Give a suitable example.'"
      ]
     },
     "execution_count": 89,
     "metadata": {},
     "output_type": "execute_result"
    }
   ],
   "source": [
    "'''Q6. Explain the write() and writelines() functions. Give a suitable example.'''"
   ]
  },
  {
   "cell_type": "code",
   "execution_count": 90,
   "id": "b3a2caba-bdae-465d-a375-2931126e3c90",
   "metadata": {},
   "outputs": [],
   "source": [
    "with open ('assgn.txt','w') as f:\n",
    "    f.write( 'I want to become a Data Scientist')\n",
    "\n"
   ]
  },
  {
   "cell_type": "code",
   "execution_count": 91,
   "id": "9b54ed5e-85ab-4df1-80fd-7c3f38cf65f3",
   "metadata": {},
   "outputs": [],
   "source": [
    "# List of strings to write to the file\n",
    "lines = [\"Hello, world!\\n\", \"This is an example of writelines().\\n\", \"We are writing multiple lines.\"]\n",
    "\n",
    "# Open the file in write mode\n",
    "with open('example.txt', 'w') as file:\n",
    "    file.writelines(lines)\n",
    "\n",
    "# Output (example.txt):\n",
    "# Hello, world!\n",
    "# This is an example of writelines().\n",
    "# We are writing multiple lines.\n"
   ]
  },
  {
   "cell_type": "code",
   "execution_count": null,
   "id": "4988a7db-0c88-455c-b55a-b39c6154ae49",
   "metadata": {},
   "outputs": [],
   "source": []
  }
 ],
 "metadata": {
  "kernelspec": {
   "display_name": "Python 3 (ipykernel)",
   "language": "python",
   "name": "python3"
  },
  "language_info": {
   "codemirror_mode": {
    "name": "ipython",
    "version": 3
   },
   "file_extension": ".py",
   "mimetype": "text/x-python",
   "name": "python",
   "nbconvert_exporter": "python",
   "pygments_lexer": "ipython3",
   "version": "3.13.2"
  }
 },
 "nbformat": 4,
 "nbformat_minor": 5
}
