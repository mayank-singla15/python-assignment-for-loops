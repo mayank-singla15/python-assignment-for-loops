{
 "cells": [
  {
   "cell_type": "code",
   "execution_count": 33,
   "id": "8822cee8-6284-47ec-9b3b-2f2272fed332",
   "metadata": {},
   "outputs": [
    {
     "data": {
      "text/plain": [
       "'Q1. Which keyword is used to create a function? Create a function to return a list of odd numbers in the\\nrange of 1 to 25.'"
      ]
     },
     "execution_count": 33,
     "metadata": {},
     "output_type": "execute_result"
    }
   ],
   "source": [
    "'''Q1. Which keyword is used to create a function? Create a function to return a list of odd numbers in the\n",
    "range of 1 to 25.\n",
    "def keyword is used to create a function'''\n",
    "def odd(n):\n",
    "    if n\n",
    "    \n"
   ]
  },
  {
   "cell_type": "code",
   "execution_count": null,
   "id": "a869e483-4c30-42a8-b1f8-1ef16de0a1a0",
   "metadata": {},
   "outputs": [],
   "source": []
  },
  {
   "cell_type": "code",
   "execution_count": 32,
   "id": "7cfd762f-dbcb-44c8-b300-59145b1af13e",
   "metadata": {},
   "outputs": [
    {
     "data": {
      "text/plain": [
       "\"Q2. Why *args and **kwargs is used in some functions? Create a function each for *args and **kwargs\\nto demonstrate their use.\\n\\n  *args and **kwargs are special symbols used to pass a variable number of arguments to functions:\\n args\\nAllows you to pass any number of positional arguments, which are arguments that don't contain a keyword related to the data value\\n kwargs\\nAccepts keyword arguments as a dictionary, which maps the value to its associated key \""
      ]
     },
     "execution_count": 32,
     "metadata": {},
     "output_type": "execute_result"
    }
   ],
   "source": [
    "\n",
    "\n",
    "\n",
    "\n",
    "\n",
    "\n",
    "\n",
    "\n",
    "\n",
    "\n",
    "\n",
    "'''Q2. Why *args and **kwargs is used in some functions? Create a function each for *args and **kwargs\n",
    "to demonstrate their use.\n",
    "\n",
    "  *args and **kwargs are special symbols used to pass a variable number of arguments to functions:\n",
    " args\n",
    "Allows you to pass any number of positional arguments, which are arguments that don't contain a keyword related to the data value\n",
    " kwargs\n",
    "Accepts keyword arguments as a dictionary, which maps the value to its associated key '''"
   ]
  },
  {
   "cell_type": "code",
   "execution_count": 58,
   "id": "a4e585ea-b0b5-4a79-beb3-c32ad480afb0",
   "metadata": {},
   "outputs": [],
   "source": [
    "### find out even no.s from follwing 345,432,456,543,32,42,32,21,785\n",
    "def test(*args):\n",
    "    \n",
    "    even_no=[]\n",
    "    for num in args:\n",
    "         if num%2 == 0:\n",
    "             even_no.append(num)\n",
    "    return even_no \n",
    "        \n",
    "        \n",
    "       "
   ]
  },
  {
   "cell_type": "code",
   "execution_count": 62,
   "id": "cb5bf8fe-42f6-4008-92a8-33c610261bac",
   "metadata": {},
   "outputs": [
    {
     "data": {
      "text/plain": [
       "[432, 456, 32, 42, 32, 78]"
      ]
     },
     "execution_count": 62,
     "metadata": {},
     "output_type": "execute_result"
    }
   ],
   "source": [
    "test(345,432,456,543,32,42,32,21,78)"
   ]
  },
  {
   "cell_type": "code",
   "execution_count": 66,
   "id": "5f2617bc-83de-430a-bab8-0fd56056ee9e",
   "metadata": {},
   "outputs": [
    {
     "data": {
      "text/plain": [
       "list"
      ]
     },
     "execution_count": 66,
     "metadata": {},
     "output_type": "execute_result"
    }
   ],
   "source": [
    "type( test(2,3,4,2))"
   ]
  },
  {
   "cell_type": "code",
   "execution_count": 76,
   "id": "4f9035a8-271b-45a9-90e7-259c4b10e54c",
   "metadata": {},
   "outputs": [],
   "source": [
    "def test1(**kwargs):\n",
    "    return kwargs"
   ]
  },
  {
   "cell_type": "code",
   "execution_count": 77,
   "id": "01bb36a7-6203-47cc-84aa-f2efc4dd65cd",
   "metadata": {},
   "outputs": [
    {
     "data": {
      "text/plain": [
       "{'a': [1, 2, 3, 4], 'b': [2, 3, 45], 'c': ['mayank', 'singla']}"
      ]
     },
     "execution_count": 77,
     "metadata": {},
     "output_type": "execute_result"
    }
   ],
   "source": [
    "test1(a=[1,2,3,4],b=[2,3,45],c=['mayank','singla'])"
   ]
  },
  {
   "cell_type": "code",
   "execution_count": null,
   "id": "652461da-4533-4424-b6ca-ab0996effa0c",
   "metadata": {},
   "outputs": [],
   "source": [
    "'''Q3. What is an iterator in python? Name the method used to initialise the iterator object and the method\n",
    "used for iteration. Use these methods to print the first five elements of the given list [2, 4, 6, 8, 10, 12, 14,\n",
    "16, 18, 20].\n",
    "\n",
    " an iterator is an object that allows you to traverse through a sequence of values, one at a time\n",
    "\n",
    "  It implements the iterator protocol, which consists of two essential methods:\n",
    "__iter__():\n",
    "This method returns the iterator object itself. It's called when you initialize an iterator.\n",
    "__next__():\n",
    "This method returns the next value in the sequence. It raises a StopIteration exception when there are no more items left to iterate.\n",
    " \n",
    "\n",
    "'''"
   ]
  },
  {
   "cell_type": "code",
   "execution_count": 80,
   "id": "973893c8-eabb-4db8-a398-9195124a261c",
   "metadata": {},
   "outputs": [
    {
     "name": "stdout",
     "output_type": "stream",
     "text": [
      "2\n",
      "4\n",
      "6\n",
      "8\n",
      "10\n"
     ]
    }
   ],
   "source": [
    "l=[2, 4, 6, 8, 10, 12, 14, 16, 18, 20]\n",
    "number=iter(l)\n",
    "for x in range(5):\n",
    "    print(next(number))\n",
    "\n",
    "    "
   ]
  },
  {
   "cell_type": "code",
   "execution_count": 81,
   "id": "bc034265-3301-45f5-979d-5fc929697fcb",
   "metadata": {},
   "outputs": [
    {
     "data": {
      "text/plain": [
       "'Q4. What is a generator function in python? Why yield keyword is used? Give an example of a generator\\nfunction.\\nA generator function in Python is a function that returns an iterator (a generator) and is defined using the yield keyword. Unlike regular functions, which return a single value using the return statement, a generator function can produce a series of values over time, yielding one value at a time, and can be paused and resumed.\\n\\nWhy yield is Used\\nThe yield keyword is used to produce a value from a generator function. When the function calls yield, it \"pauses\" the function and sends the value back to the caller. The state of the function is saved, so when the generator is called again (via next() or a loop), it picks up where it left off, continuing from the point right after the yield statement.\\n\\n'"
      ]
     },
     "execution_count": 81,
     "metadata": {},
     "output_type": "execute_result"
    }
   ],
   "source": [
    "'''Q4. What is a generator function in python? Why yield keyword is used? Give an example of a generator\n",
    "function.\n",
    "A generator function in Python is a function that returns an iterator (a generator) and is defined using the yield keyword. Unlike regular functions, which return a single value using the return statement, a generator function can produce a series of values over time, yielding one value at a time, and can be paused and resumed.\n",
    "\n",
    "Why yield is Used\n",
    "The yield keyword is used to produce a value from a generator function. When the function calls yield, it \"pauses\" the function and sends the value back to the caller. The state of the function is saved, so when the generator is called again (via next() or a loop), it picks up where it left off, continuing from the point right after the yield statement.\n",
    "\n",
    "'''\n"
   ]
  },
  {
   "cell_type": "code",
   "execution_count": 83,
   "id": "7aafbc3f-b27b-4f45-bc11-72de25754d5e",
   "metadata": {},
   "outputs": [
    {
     "name": "stdout",
     "output_type": "stream",
     "text": [
      "0\n",
      "1\n",
      "4\n",
      "9\n",
      "16\n"
     ]
    }
   ],
   "source": [
    "def test(n):\n",
    "    for i in range(n):\n",
    "        yield i**2\n",
    "### print square of first five whole number\n",
    "square_genrator=test(5)\n",
    "for square in square_genrator:\n",
    "    print(square)\n",
    "    "
   ]
  },
  {
   "cell_type": "code",
   "execution_count": 84,
   "id": "30068a09-7d7c-4f31-888f-f7e87ffea10f",
   "metadata": {},
   "outputs": [
    {
     "data": {
      "text/plain": [
       "'Q5. Create a generator function for prime numbers less than 1000. Use the next() method to print the\\nfirst 20 prime numbers.'"
      ]
     },
     "execution_count": 84,
     "metadata": {},
     "output_type": "execute_result"
    }
   ],
   "source": [
    "'''Q5. Create a generator function for prime numbers less than 1000. Use the next() method to print the\n",
    "first 20 prime numbers.'''"
   ]
  },
  {
   "cell_type": "code",
   "execution_count": 2,
   "id": "eec9f777-4f4e-41bb-a4a1-09af9137b985",
   "metadata": {},
   "outputs": [
    {
     "name": "stdout",
     "output_type": "stream",
     "text": [
      "2\n",
      "3\n",
      "5\n",
      "7\n",
      "9\n",
      "11\n",
      "13\n",
      "15\n",
      "17\n",
      "19\n",
      "21\n",
      "23\n",
      "25\n",
      "27\n",
      "29\n",
      "31\n",
      "33\n",
      "35\n",
      "37\n",
      "39\n"
     ]
    }
   ],
   "source": [
    "def prime(num):\n",
    "    if num<=1:\n",
    "        return False\n",
    "    for i in range(2,num):\n",
    "        if num % i == 0:\n",
    "            return False\n",
    "        else:\n",
    "            return True\n",
    "    return True    \n",
    "\n",
    "def prime_number_gen():\n",
    "    num=2\n",
    "    while num <1000:\n",
    "        if prime(num):\n",
    "            yield num\n",
    "        num=num+1    \n",
    "prime_numbers = prime_number_gen()\n",
    "for _ in range(20):\n",
    "    print(next(prime_numbers))\n",
    "\n",
    "\n"
   ]
  },
  {
   "cell_type": "code",
   "execution_count": 3,
   "id": "9cdd649c-26a9-4caa-b6ce-759ae797a528",
   "metadata": {},
   "outputs": [
    {
     "data": {
      "text/plain": [
       "'Q6. Write a python program to print the first 10 Fibonacci numbers using a while loop.'"
      ]
     },
     "execution_count": 3,
     "metadata": {},
     "output_type": "execute_result"
    }
   ],
   "source": [
    "'''Q6. Write a python program to print the first 10 Fibonacci numbers using a while loop.'''"
   ]
  },
  {
   "cell_type": "code",
   "execution_count": 8,
   "id": "bce714b4-4a61-47c0-8285-d31063bb3451",
   "metadata": {},
   "outputs": [
    {
     "name": "stdout",
     "output_type": "stream",
     "text": [
      "0\n",
      "1\n",
      "1\n",
      "2\n",
      "3\n",
      "5\n",
      "8\n",
      "13\n",
      "21\n",
      "34\n"
     ]
    }
   ],
   "source": [
    "num=0\n",
    "a,b=0,1\n",
    "while num<10:\n",
    "    print(a)\n",
    "    a,b=b,a+b\n",
    "    num=num+1"
   ]
  },
  {
   "cell_type": "code",
   "execution_count": 9,
   "id": "e13beb5b-20e5-4233-8d16-a01f7a117ab9",
   "metadata": {},
   "outputs": [
    {
     "data": {
      "text/plain": [
       "\"Q7. Write a List Comprehension to iterate through the given string: ‘pwskills’.\\nExpected output: ['p', 'w', 's', 'k', 'i', 'l', 'l', 's']\""
      ]
     },
     "execution_count": 9,
     "metadata": {},
     "output_type": "execute_result"
    }
   ],
   "source": [
    "'''Q7. Write a List Comprehension to iterate through the given string: ‘pwskills’.\n",
    "Expected output: ['p', 'w', 's', 'k', 'i', 'l', 'l', 's']'''"
   ]
  },
  {
   "cell_type": "code",
   "execution_count": 19,
   "id": "af4bd0af-acf4-4020-8d82-c6a36ec57ec1",
   "metadata": {},
   "outputs": [
    {
     "name": "stdout",
     "output_type": "stream",
     "text": [
      "['p', 'w', 's', 'k', 'i', 'l', 'l', 's']\n"
     ]
    }
   ],
   "source": [
    "string = 'pwskills'\n",
    "result = list(char for char in string)\n",
    "print(result)"
   ]
  },
  {
   "cell_type": "code",
   "execution_count": 22,
   "id": "73a71b65-777d-45dc-8b86-56800a6fdb8d",
   "metadata": {},
   "outputs": [
    {
     "name": "stdout",
     "output_type": "stream",
     "text": [
      "['p']\n",
      "['w']\n",
      "['s']\n",
      "['k']\n",
      "['i']\n",
      "['l']\n",
      "['l']\n",
      "['s']\n"
     ]
    }
   ],
   "source": [
    "string = 'pwskills'\n",
    "for i in string:\n",
    "    print(list(i))"
   ]
  },
  {
   "cell_type": "code",
   "execution_count": 28,
   "id": "468f40e7-93fe-41ee-9e20-58d887f3cc7f",
   "metadata": {},
   "outputs": [
    {
     "name": "stdin",
     "output_type": "stream",
     "text": [
      "Enter number: 121\n"
     ]
    },
    {
     "name": "stdout",
     "output_type": "stream",
     "text": [
      "The number is a palindrome!\n"
     ]
    }
   ],
   "source": [
    "'''Q8. Write a python program to check whether a given number is Palindrome or not using a while loop.'''\n",
    "n=int(input(\"Enter number:\"))\n",
    "temp=n\n",
    "rev=0\n",
    "while(n>0):\n",
    "    dig=n%10\n",
    "    rev=rev*10+dig\n",
    "    n=n//10\n",
    "if(temp==rev):\n",
    "    print(\"The number is a palindrome!\")\n",
    "else:\n",
    "    print(\"The number isn't a palindrome!\")\n",
    "\n"
   ]
  },
  {
   "cell_type": "code",
   "execution_count": 23,
   "id": "aa6a9d71-8a3b-4bc0-ac34-806b4b5a742d",
   "metadata": {},
   "outputs": [],
   "source": [
    "'''Write a code to print odd numbers from 1 to 100 using list comprehension.'''\n",
    "\n",
    "a=list(range(1,101))"
   ]
  },
  {
   "cell_type": "code",
   "execution_count": 25,
   "id": "9a434f4b-73c2-4e4f-8a53-47ed01627e4b",
   "metadata": {},
   "outputs": [
    {
     "data": {
      "text/plain": [
       "[1,\n",
       " 3,\n",
       " 5,\n",
       " 7,\n",
       " 9,\n",
       " 11,\n",
       " 13,\n",
       " 15,\n",
       " 17,\n",
       " 19,\n",
       " 21,\n",
       " 23,\n",
       " 25,\n",
       " 27,\n",
       " 29,\n",
       " 31,\n",
       " 33,\n",
       " 35,\n",
       " 37,\n",
       " 39,\n",
       " 41,\n",
       " 43,\n",
       " 45,\n",
       " 47,\n",
       " 49,\n",
       " 51,\n",
       " 53,\n",
       " 55,\n",
       " 57,\n",
       " 59,\n",
       " 61,\n",
       " 63,\n",
       " 65,\n",
       " 67,\n",
       " 69,\n",
       " 71,\n",
       " 73,\n",
       " 75,\n",
       " 77,\n",
       " 79,\n",
       " 81,\n",
       " 83,\n",
       " 85,\n",
       " 87,\n",
       " 89,\n",
       " 91,\n",
       " 93,\n",
       " 95,\n",
       " 97,\n",
       " 99]"
      ]
     },
     "execution_count": 25,
     "metadata": {},
     "output_type": "execute_result"
    }
   ],
   "source": [
    "[i for i in a if i%2 != 0]"
   ]
  },
  {
   "cell_type": "code",
   "execution_count": 29,
   "id": "9f00ed5b-2a5a-4d24-8f5b-99663b005548",
   "metadata": {},
   "outputs": [
    {
     "data": {
      "text/plain": [
       "12"
      ]
     },
     "execution_count": 29,
     "metadata": {},
     "output_type": "execute_result"
    }
   ],
   "source": [
    "121//10"
   ]
  },
  {
   "cell_type": "code",
   "execution_count": 30,
   "id": "62055d85-cf65-478a-8e8c-e02a12183bc1",
   "metadata": {},
   "outputs": [
    {
     "data": {
      "text/plain": [
       "1"
      ]
     },
     "execution_count": 30,
     "metadata": {},
     "output_type": "execute_result"
    }
   ],
   "source": [
    "12//10"
   ]
  },
  {
   "cell_type": "code",
   "execution_count": 31,
   "id": "6fd79984-d207-4941-a29b-c31227e7d47c",
   "metadata": {},
   "outputs": [
    {
     "data": {
      "text/plain": [
       "1"
      ]
     },
     "execution_count": 31,
     "metadata": {},
     "output_type": "execute_result"
    }
   ],
   "source": [
    "1%10"
   ]
  },
  {
   "cell_type": "code",
   "execution_count": null,
   "id": "f631d105-da35-4ece-a655-5267862da4f3",
   "metadata": {},
   "outputs": [],
   "source": []
  }
 ],
 "metadata": {
  "kernelspec": {
   "display_name": "Python 3 (ipykernel)",
   "language": "python",
   "name": "python3"
  },
  "language_info": {
   "codemirror_mode": {
    "name": "ipython",
    "version": 3
   },
   "file_extension": ".py",
   "mimetype": "text/x-python",
   "name": "python",
   "nbconvert_exporter": "python",
   "pygments_lexer": "ipython3",
   "version": "3.13.0"
  }
 },
 "nbformat": 4,
 "nbformat_minor": 5
}
