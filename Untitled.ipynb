{
 "cells": [
  {
   "cell_type": "code",
   "execution_count": null,
   "id": "070a42ef-5ae0-4c0f-a274-0ca287d65d3c",
   "metadata": {},
   "outputs": [],
   "source": [
    "'''Q1. Explain with an example each when to use a for loop and a while loop.'''"
   ]
  },
  {
   "cell_type": "code",
   "execution_count": null,
   "id": "886a8e09-0dbe-4361-a0ac-e5dd4e9d708c",
   "metadata": {},
   "outputs": [],
   "source": []
  },
  {
   "cell_type": "code",
   "execution_count": null,
   "id": "3683aae2-222e-4441-84cc-ec4650b2d128",
   "metadata": {},
   "outputs": [],
   "source": []
  },
  {
   "cell_type": "code",
   "execution_count": null,
   "id": "92e532a7-5987-450a-bca0-6eda0be67a35",
   "metadata": {},
   "outputs": [],
   "source": []
  },
  {
   "cell_type": "code",
   "execution_count": 3,
   "id": "0e1d6404-fed1-4af9-9b89-61329bfb4488",
   "metadata": {},
   "outputs": [
    {
     "data": {
      "text/plain": [
       "55"
      ]
     },
     "execution_count": 3,
     "metadata": {},
     "output_type": "execute_result"
    }
   ],
   "source": [
    "'''Q2. Write a python program to print the sum and product of the first 10 natural numbers using for\n",
    "and while loop.'''\n",
    "sum,a=0,1\n",
    "while a<=10:\n",
    "    \n",
    "    sum=sum+a\n",
    "    a=a+1\n",
    "sum\n"
   ]
  },
  {
   "cell_type": "code",
   "execution_count": 2,
   "id": "bce78254-bbb2-452b-be23-e836924fa0b5",
   "metadata": {},
   "outputs": [
    {
     "data": {
      "text/plain": [
       "3628800"
      ]
     },
     "execution_count": 2,
     "metadata": {},
     "output_type": "execute_result"
    }
   ],
   "source": [
    "\n",
    "\n",
    "product=1\n",
    "a=2\n",
    "while a<=10:\n",
    "    product=a*product\n",
    "    a=a+1\n",
    "product    \n"
   ]
  },
  {
   "cell_type": "code",
   "execution_count": 6,
   "id": "a9045a6a-0302-4647-802d-ff104776621a",
   "metadata": {},
   "outputs": [
    {
     "data": {
      "text/plain": [
       "55"
      ]
     },
     "execution_count": 6,
     "metadata": {},
     "output_type": "execute_result"
    }
   ],
   "source": [
    "sum,a=0,1\n",
    "for a in range(1,11):\n",
    "    \n",
    "    sum=sum+a\n",
    "    a=a+1\n",
    "sum\n"
   ]
  },
  {
   "cell_type": "code",
   "execution_count": 8,
   "id": "449beb10-c8d9-4e75-b749-1ee81891dad3",
   "metadata": {},
   "outputs": [
    {
     "data": {
      "text/plain": [
       "3628800"
      ]
     },
     "execution_count": 8,
     "metadata": {},
     "output_type": "execute_result"
    }
   ],
   "source": [
    "product=1\n",
    "a=2\n",
    "for a in range(1,11):\n",
    "    product=a*product\n",
    "    a=a+1\n",
    "product  "
   ]
  },
  {
   "cell_type": "code",
   "execution_count": 6,
   "id": "5b758d58-c410-4cd4-9ef7-12fb01086c88",
   "metadata": {},
   "outputs": [
    {
     "name": "stdin",
     "output_type": "stream",
     "text": [
      "enter units consumed this month 310\n"
     ]
    },
    {
     "data": {
      "text/plain": [
       "2250.0"
      ]
     },
     "execution_count": 6,
     "metadata": {},
     "output_type": "execute_result"
    }
   ],
   "source": [
    "'''. Create a python program to compute the electricity bill for a household.\n",
    "The per-unit charges in rupees are as follows: For the first 100 units, the user will be charged Rs. 4.5 per\n",
    "unit, for the next 100 units, the user will be charged Rs. 6 per unit, and for the next 100 units, the user will\n",
    "be charged Rs. 10 per unit, After 300 units and above the user will be charged Rs. 20 per unit.\n",
    "You are required to take the units of electricity consumed in a month from the user as input.'''\n",
    "\n",
    "units=int(input('enter units consumed this month'))\n",
    "if units<=100:\n",
    "    bill=units*4.5\n",
    "elif units<=200:\n",
    "    bill=(100*4.5)+(units-100)*6\n",
    "elif units<=300:\n",
    "    bill=(100*4.5)+(100*6)+(units-200)*10\n",
    "else:\n",
    "    bill=(100*4.5)+(100*6)+(100*10)+(units-300)*20\n",
    "bill\n"
   ]
  },
  {
   "cell_type": "code",
   "execution_count": 9,
   "id": "87afb818-32e9-4859-b7fb-d778f71107f7",
   "metadata": {},
   "outputs": [
    {
     "data": {
      "text/plain": [
       "[2,\n",
       " 4,\n",
       " 5,\n",
       " 6,\n",
       " 8,\n",
       " 10,\n",
       " 12,\n",
       " 14,\n",
       " 15,\n",
       " 16,\n",
       " 18,\n",
       " 20,\n",
       " 22,\n",
       " 24,\n",
       " 25,\n",
       " 26,\n",
       " 28,\n",
       " 30,\n",
       " 32,\n",
       " 34,\n",
       " 35,\n",
       " 36,\n",
       " 38,\n",
       " 40,\n",
       " 42,\n",
       " 44,\n",
       " 45,\n",
       " 46,\n",
       " 48,\n",
       " 50,\n",
       " 52,\n",
       " 54,\n",
       " 55,\n",
       " 56,\n",
       " 58,\n",
       " 60,\n",
       " 62,\n",
       " 64,\n",
       " 65,\n",
       " 66,\n",
       " 68,\n",
       " 70,\n",
       " 72,\n",
       " 74,\n",
       " 75,\n",
       " 76,\n",
       " 78,\n",
       " 80,\n",
       " 82,\n",
       " 84,\n",
       " 85,\n",
       " 86,\n",
       " 88,\n",
       " 90,\n",
       " 92,\n",
       " 94,\n",
       " 95,\n",
       " 96,\n",
       " 98,\n",
       " 100]"
      ]
     },
     "execution_count": 9,
     "metadata": {},
     "output_type": "execute_result"
    }
   ],
   "source": [
    "'''Q4. Create a list of numbers from 1 to 100. Use for loop and while loop to calculate the cube of each\n",
    "number and if the cube of that number is divisible by 4 or 5 then append that number in a list and print\n",
    "that list.'''\n",
    "\n",
    "l1=[]\n",
    "for i in range(1,101):\n",
    "    a=i**3\n",
    "    if a % 4 ==0 or a % 5 == 0:\n",
    "        l1.append(i)\n",
    "    \n",
    "l1      "
   ]
  },
  {
   "cell_type": "code",
   "execution_count": 15,
   "id": "f377351f-7c3e-48e8-a1c1-f6e71d30a440",
   "metadata": {},
   "outputs": [
    {
     "data": {
      "text/plain": [
       "[2,\n",
       " 4,\n",
       " 5,\n",
       " 6,\n",
       " 8,\n",
       " 10,\n",
       " 12,\n",
       " 14,\n",
       " 15,\n",
       " 16,\n",
       " 18,\n",
       " 20,\n",
       " 22,\n",
       " 24,\n",
       " 25,\n",
       " 26,\n",
       " 28,\n",
       " 30,\n",
       " 32,\n",
       " 34,\n",
       " 35,\n",
       " 36,\n",
       " 38,\n",
       " 40,\n",
       " 42,\n",
       " 44,\n",
       " 45,\n",
       " 46,\n",
       " 48,\n",
       " 50,\n",
       " 52,\n",
       " 54,\n",
       " 55,\n",
       " 56,\n",
       " 58,\n",
       " 60,\n",
       " 62,\n",
       " 64,\n",
       " 65,\n",
       " 66,\n",
       " 68,\n",
       " 70,\n",
       " 72,\n",
       " 74,\n",
       " 75,\n",
       " 76,\n",
       " 78,\n",
       " 80,\n",
       " 82,\n",
       " 84,\n",
       " 85,\n",
       " 86,\n",
       " 88,\n",
       " 90,\n",
       " 92,\n",
       " 94,\n",
       " 95,\n",
       " 96,\n",
       " 98,\n",
       " 100]"
      ]
     },
     "execution_count": 15,
     "metadata": {},
     "output_type": "execute_result"
    }
   ],
   "source": [
    "l1=[]\n",
    "i=1\n",
    "while i<=100:\n",
    "    a=i**3\n",
    "    if a % 4 ==0 or a % 5 == 0:\n",
    "        l1.append(i)\n",
    "    i=i+1    \n",
    "    \n",
    "l1      "
   ]
  },
  {
   "cell_type": "code",
   "execution_count": 28,
   "id": "6dc0b564-7e6a-4a4e-bb52-12d5159a3d7a",
   "metadata": {},
   "outputs": [
    {
     "data": {
      "text/plain": [
       "'Q5. Write a program to filter count vowels in the below-given string.\\nstring = \"I want to become a data scientist\"'"
      ]
     },
     "execution_count": 28,
     "metadata": {},
     "output_type": "execute_result"
    }
   ],
   "source": [
    "'''Q5. Write a program to filter count vowels in the below-given string.\n",
    "string = \"I want to become a data scientist\"'''"
   ]
  },
  {
   "cell_type": "code",
   "execution_count": 1,
   "id": "28ac1087-a92d-46f2-b0d1-18791e894a03",
   "metadata": {},
   "outputs": [
    {
     "name": "stdout",
     "output_type": "stream",
     "text": [
      "String after removing vowels:  wnt t bcm  dt scntst\n"
     ]
    }
   ],
   "source": [
    "string = \"I want to become a data scientist\"\n",
    "vowels = \"aeiouAEIOU\"\n",
    "filtered_string = ''.join([char for char in string if char not in vowels])\n",
    "print(\"String after removing vowels:\", filtered_string)\n"
   ]
  },
  {
   "cell_type": "code",
   "execution_count": null,
   "id": "7eba391b-6fe4-4bdd-9f33-2dde2b46d009",
   "metadata": {},
   "outputs": [],
   "source": []
  },
  {
   "cell_type": "code",
   "execution_count": null,
   "id": "7db69359-da0c-4b3e-b77a-aca841811343",
   "metadata": {},
   "outputs": [],
   "source": []
  }
 ],
 "metadata": {
  "kernelspec": {
   "display_name": "Python 3 (ipykernel)",
   "language": "python",
   "name": "python3"
  },
  "language_info": {
   "codemirror_mode": {
    "name": "ipython",
    "version": 3
   },
   "file_extension": ".py",
   "mimetype": "text/x-python",
   "name": "python",
   "nbconvert_exporter": "python",
   "pygments_lexer": "ipython3",
   "version": "3.13.0"
  }
 },
 "nbformat": 4,
 "nbformat_minor": 5
}
