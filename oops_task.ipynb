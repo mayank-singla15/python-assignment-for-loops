{
 "cells": [
  {
   "cell_type": "code",
   "execution_count": 3,
   "id": "8d24a673-4947-42de-98cc-610d064c8f18",
   "metadata": {},
   "outputs": [
    {
     "data": {
      "text/plain": [
       "'Q1, Create a vehicle class with an init method having instance variables as name_of_vehicle, max_speed\\nand average_of_vehicle.'"
      ]
     },
     "execution_count": 3,
     "metadata": {},
     "output_type": "execute_result"
    }
   ],
   "source": [
    "'''Q1, Create a vehicle class with an init method having instance variables as name_of_vehicle, max_speed\n",
    "and average_of_vehicle.'''"
   ]
  },
  {
   "cell_type": "code",
   "execution_count": 4,
   "id": "787d9d56-07cb-4f46-a6d9-7df04a2d9886",
   "metadata": {},
   "outputs": [],
   "source": [
    "class vehicle:\n",
    "    def __init__(self,name_of_vehicle, max_speed,average_of_vehicle):\n",
    "        self.name_of_vehicle =name_of_vehicle\n",
    "        self.max_speed= max_speed\n",
    "        self.average_of_vehicle= average_of_vehicle"
   ]
  },
  {
   "cell_type": "code",
   "execution_count": 5,
   "id": "a100037b-e0fb-4bbf-9f26-dba10a4e3de5",
   "metadata": {},
   "outputs": [
    {
     "data": {
      "text/plain": [
       "'Q2. Create a child class car from the vehicle class created in Que 1, which will inherit the vehicle class.\\nCreate a method named seating_capacity which takes capacity as an argument and returns the name of\\nthe vehicle and its seating capacity.'"
      ]
     },
     "execution_count": 5,
     "metadata": {},
     "output_type": "execute_result"
    }
   ],
   "source": [
    "'''Q2. Create a child class car from the vehicle class created in Que 1, which will inherit the vehicle class.\n",
    "Create a method named seating_capacity which takes capacity as an argument and returns the name of\n",
    "the vehicle and its seating capacity.'''"
   ]
  },
  {
   "cell_type": "code",
   "execution_count": 7,
   "id": "8a455141-442f-4554-a372-69b3cdbb6360",
   "metadata": {},
   "outputs": [],
   "source": [
    "class car(vehicle):\n",
    "    def seating_capacity(self,capacity):\n",
    "        return f'The {self.name_of_vehicle} has a seating capacity {capacity}'\n",
    "\n"
   ]
  },
  {
   "cell_type": "code",
   "execution_count": 9,
   "id": "3f8b08bd-9b33-4de4-bdf8-1456e3e16831",
   "metadata": {},
   "outputs": [],
   "source": [
    "car= car('sedan',140,15)"
   ]
  },
  {
   "cell_type": "code",
   "execution_count": 10,
   "id": "ac390cbc-0ff4-4fc2-b793-c3506a415807",
   "metadata": {},
   "outputs": [
    {
     "data": {
      "text/plain": [
       "'The sedan has a seating capacity 5'"
      ]
     },
     "execution_count": 10,
     "metadata": {},
     "output_type": "execute_result"
    }
   ],
   "source": [
    "car.seating_capacity(5)"
   ]
  },
  {
   "cell_type": "code",
   "execution_count": 11,
   "id": "12e9bd5d-7726-47c7-89a4-edfbd3e8100f",
   "metadata": {},
   "outputs": [
    {
     "data": {
      "text/plain": [
       "'Q3. What is multiple inheritance? Write a python code to demonstrate multiple inheritance.'"
      ]
     },
     "execution_count": 11,
     "metadata": {},
     "output_type": "execute_result"
    }
   ],
   "source": [
    "'''Q3. What is multiple inheritance? Write a python code to demonstrate multiple inheritance.'''"
   ]
  },
  {
   "cell_type": "code",
   "execution_count": 22,
   "id": "42b5f8db-055b-4e64-8df0-40deaefcf367",
   "metadata": {},
   "outputs": [],
   "source": [
    "# Multiple inheritance is a feature in object-oriented programming (OOP) where a class can inherit from more than one parent class. In Python, a class can be derived from multiple parent classes, which allows the derived class to inherit methods and properties from all parent classes.\n",
    "\n",
    "class Person:\n",
    "    def __init__(self,name,age):\n",
    "        self.name= name\n",
    "        self.age= age\n",
    "    def display_person_info(self) :\n",
    "        print(f'name: {self.name}, age: {self.age}')\n",
    "\n",
    "class Employee:\n",
    "    def __init__(self,employee_id,department):\n",
    "        self.employee_id= employee_id\n",
    "        self.department = department\n",
    "    def display_employee_info(self):\n",
    "        print(f'Employee_ID: {self.employee_id}, Department: {self.department}')\n",
    "class Manager(Person,Employee):\n",
    "    def __init__(self,name,age,employee_id,department,team_size):\n",
    "        Person.__init__(self,name,age)\n",
    "        Employee.__init__(self,employee_id,department)\n",
    "        \n",
    "        self.team_size =team_size\n",
    "    def display_manager_info(self):\n",
    "        print(f'Team Size: {self.team_size}')\n",
    "    def display_full_info(self):\n",
    "        self.display_person_info()\n",
    "        self.display_employee_info()\n",
    "        self.display_manager_info()"
   ]
  },
  {
   "cell_type": "code",
   "execution_count": 23,
   "id": "4dcaabad-f7d5-4d55-81b8-78ef41ee60e6",
   "metadata": {},
   "outputs": [],
   "source": [
    "mayank=Manager(mayank,22,8903,'coder',32)"
   ]
  },
  {
   "cell_type": "code",
   "execution_count": 24,
   "id": "ce844f26-ffe9-4971-9529-35df6daf25af",
   "metadata": {},
   "outputs": [
    {
     "name": "stdout",
     "output_type": "stream",
     "text": [
      "name: <__main__.Manager object at 0x00000183E267A510>, age: 22\n",
      "Employee_ID: 8903, Department: coder\n",
      "Team Size: 32\n"
     ]
    }
   ],
   "source": [
    "mayank.display_full_info()"
   ]
  },
  {
   "cell_type": "code",
   "execution_count": 25,
   "id": "be19efc4-3d32-4c97-a9d7-a9c913637d88",
   "metadata": {},
   "outputs": [
    {
     "data": {
      "text/plain": [
       "'Q4. What are getter and setter in python? Create a class and create a getter and a setter method in this\\nclass.'"
      ]
     },
     "execution_count": 25,
     "metadata": {},
     "output_type": "execute_result"
    }
   ],
   "source": [
    "'''Q4. What are getter and setter in python? Create a class and create a getter and a setter method in this\n",
    "class.'''"
   ]
  },
  {
   "cell_type": "code",
   "execution_count": 26,
   "id": "62e30635-302e-49db-a674-1595fcfe3a5b",
   "metadata": {},
   "outputs": [],
   "source": [
    "# In Python, getters and setters are methods that allow you to access and update the attributes of a class. They provide controlled access to the private attributes of an object. The main advantage of using getters and setters is that they allow you to implement encapsulation and validation while interacting with class attributes.\n",
    "\n",
    "# Getter: A method used to get the value of a private attribute.\n",
    "\n",
    "# Setter: A method used to set or modify the value of a private attribute."
   ]
  },
  {
   "cell_type": "code",
   "execution_count": 33,
   "id": "eab2d66e-7495-48f7-9ad5-999f8c15f0a9",
   "metadata": {},
   "outputs": [],
   "source": [
    "class Person:\n",
    "    def __init__(self,name,age):\n",
    "        self.__name =name\n",
    "        self.__age= age\n",
    "    def get_name(self):\n",
    "        return self.__name\n",
    "    def set_name(self):\n",
    "        self.__name = name\n",
    "    def get_age(self):\n",
    "        return self.__age\n",
    "    def set_age(self):\n",
    "        if age >= 0:\n",
    "            self.__age = age\n",
    "        else:\n",
    "            print('Age cannot be negative')\n",
    "        "
   ]
  },
  {
   "cell_type": "code",
   "execution_count": 34,
   "id": "d548da58-a6e2-49e0-803b-6ad66396742f",
   "metadata": {},
   "outputs": [],
   "source": [
    "person = Person('Alice',32)"
   ]
  },
  {
   "cell_type": "code",
   "execution_count": 35,
   "id": "4a07f2be-cf1d-4cc5-bc36-018a46654a5c",
   "metadata": {},
   "outputs": [
    {
     "data": {
      "text/plain": [
       "32"
      ]
     },
     "execution_count": 35,
     "metadata": {},
     "output_type": "execute_result"
    }
   ],
   "source": [
    "person.get_age()"
   ]
  },
  {
   "cell_type": "code",
   "execution_count": 36,
   "id": "de1ca7cb-35cd-46ac-9915-14c15cb23f6e",
   "metadata": {},
   "outputs": [
    {
     "data": {
      "text/plain": [
       "'Q5.What is method overriding in python? Write a python code to demonstrate method overriding.'"
      ]
     },
     "execution_count": 36,
     "metadata": {},
     "output_type": "execute_result"
    }
   ],
   "source": [
    "'''Q5.What is method overriding in python? Write a python code to demonstrate method overriding.'''"
   ]
  },
  {
   "cell_type": "code",
   "execution_count": 40,
   "id": "c8900688-883c-49fe-a5d8-940c4bdff5f5",
   "metadata": {},
   "outputs": [],
   "source": [
    "# Method Overriding in Python is a feature that allows a subclass (child class) to provide a specific implementation of a method that is already defined in its superclass (parent class). When a method in the child class has the same name and signature as a method in the parent class, the method in the child class overrides the method in the parent class. This allows the child class to customize or extend the behavior of the inherited method.\n",
    "\n",
    "class Animal:\n",
    "    \n",
    "    def speak(self):\n",
    "        print('Animal makes a sound')\n",
    "class Dog(Animal):\n",
    "    \n",
    "    def speak(self):\n",
    "        print('Bow Bow!')        \n",
    "        "
   ]
  },
  {
   "cell_type": "code",
   "execution_count": 41,
   "id": "4588a8e8-b3c3-4fd2-ba03-86a249f2e386",
   "metadata": {},
   "outputs": [
    {
     "name": "stdout",
     "output_type": "stream",
     "text": [
      "Animal makes a sound\n",
      "Bow Bow!\n"
     ]
    }
   ],
   "source": [
    "animal =Animal()\n",
    "dog = Dog()\n",
    "animal.speak()\n",
    "\n",
    "dog.speak()"
   ]
  },
  {
   "cell_type": "code",
   "execution_count": null,
   "id": "446b997c-5ff3-4cf3-bce5-0244deec990a",
   "metadata": {},
   "outputs": [],
   "source": []
  }
 ],
 "metadata": {
  "kernelspec": {
   "display_name": "Python 3 (ipykernel)",
   "language": "python",
   "name": "python3"
  },
  "language_info": {
   "codemirror_mode": {
    "name": "ipython",
    "version": 3
   },
   "file_extension": ".py",
   "mimetype": "text/x-python",
   "name": "python",
   "nbconvert_exporter": "python",
   "pygments_lexer": "ipython3",
   "version": "3.13.2"
  }
 },
 "nbformat": 4,
 "nbformat_minor": 5
}
