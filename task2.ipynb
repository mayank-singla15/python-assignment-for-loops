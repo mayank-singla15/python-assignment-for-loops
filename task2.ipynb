{
 "cells": [
  {
   "cell_type": "code",
   "execution_count": 1,
   "id": "f2c2923b-15c4-4b44-a018-cddcccb8f9f3",
   "metadata": {},
   "outputs": [
    {
     "data": {
      "text/plain": [
       "'Q1. You are writing code for a company. The requirement of the company is that you create a python\\nfunction that will check whether the password entered by the user is correct or not. The function should\\ntake the password as input and return the string “Valid Password” if the entered password follows the\\nbelow-given password guidelines else it should return “Invalid Password”.\\nNote: 1. The Password should contain at least two uppercase letters and at least two lowercase letters.\\n2. The Password should contain at least a number and three special characters.\\n3. The length of the password should be 10 characters long.'"
      ]
     },
     "execution_count": 1,
     "metadata": {},
     "output_type": "execute_result"
    }
   ],
   "source": [
    "'''Q1. You are writing code for a company. The requirement of the company is that you create a python\n",
    "function that will check whether the password entered by the user is correct or not. The function should\n",
    "take the password as input and return the string “Valid Password” if the entered password follows the\n",
    "below-given password guidelines else it should return “Invalid Password”.\n",
    "Note: 1. The Password should contain at least two uppercase letters and at least two lowercase letters.\n",
    "2. The Password should contain at least a number and three special characters.\n",
    "3. The length of the password should be 10 characters long.'''"
   ]
  },
  {
   "cell_type": "code",
   "execution_count": 7,
   "id": "3863628b-8d63-4013-b543-36d63dc0a69a",
   "metadata": {},
   "outputs": [
    {
     "name": "stdin",
     "output_type": "stream",
     "text": [
      "Enter Password SIng1@#$12\n"
     ]
    },
    {
     "name": "stdout",
     "output_type": "stream",
     "text": [
      "Valid Password!\n"
     ]
    }
   ],
   "source": [
    "import re\n",
    "\n",
    "def validate_password(password):\n",
    "    if len(password) != 10:\n",
    "        return 'Invalid Password!'\n",
    "    if len(re.findall(r'[A-Z]',password))<2:\n",
    "        return 'Invalid Password!'\n",
    "    if len(re.findall(r'[a-z]',password))<2:\n",
    "        return 'Invalid Password!'\n",
    "    if len(re.findall(r'[0-9]',password))<1:\n",
    "        return 'Invalid Password'\n",
    "    if len(re.findall(r'[!@#$%^&*(),.?\":{}|<>]',password))<3:\n",
    "        return 'Invalid Password!'\n",
    "    return 'Valid Password!'    \n",
    "\n",
    "password=input('Enter Password')\n",
    "print(validate_password(password))\n",
    "\n",
    "\n",
    "\n"
   ]
  },
  {
   "cell_type": "code",
   "execution_count": 8,
   "id": "64db82a5-85ae-4bfe-a1dd-210bcf4a5c75",
   "metadata": {},
   "outputs": [
    {
     "data": {
      "text/plain": [
       "'Q2. Solve the below-given questions using at least one of the following:\\n1. Lambda function\\n2. Filter function\\n3. Map function\\n4. List ComprehensioI\\nB Check if the string starts with a particular letterY\\nB Check if the string is numericY\\nB Sort a list of tuples having fruit names and their quantity. [(\"mango\",99),(\"orange\",80), (\"grapes\", 1000)-\\nB Find the squares of numbers from 1 to 10Y\\nB Find the cube root of numbers from 1 to 10Y\\nB Check if a given number is evenY\\nB Filter odd numbers from the given list.\\n[1,2,3,4,5,6,7,8,9,10-\\nB Sort a list of integers into positive and negative integers lists.\\n[1,2,3,4,5,6,-1,-2,-3,-4,-5,0]'"
      ]
     },
     "execution_count": 8,
     "metadata": {},
     "output_type": "execute_result"
    }
   ],
   "source": [
    "'''Q2. Solve the below-given questions using at least one of the following:\n",
    "1. Lambda function\n",
    "2. Filter function\n",
    "3. Map function\n",
    "4. List ComprehensioI\n",
    "B Check if the string starts with a particular letterY\n",
    "B Check if the string is numericY\n",
    "B Sort a list of tuples having fruit names and their quantity. [(\"mango\",99),(\"orange\",80), (\"grapes\", 1000)-\n",
    "B Find the squares of numbers from 1 to 10Y\n",
    "B Find the cube root of numbers from 1 to 10Y\n",
    "B Check if a given number is evenY\n",
    "B Filter odd numbers from the given list.\n",
    "[1,2,3,4,5,6,7,8,9,10-\n",
    "B Sort a list of integers into positive and negative integers lists.\n",
    "[1,2,3,4,5,6,-1,-2,-3,-4,-5,0]'''"
   ]
  },
  {
   "cell_type": "code",
   "execution_count": 9,
   "id": "410c2705-c8c6-48c2-acdb-03442404b694",
   "metadata": {},
   "outputs": [],
   "source": [
    "starts_with_letter= lambda string,letter: string.startswith(letter)"
   ]
  },
  {
   "cell_type": "code",
   "execution_count": 10,
   "id": "499397d6-ceb9-4542-943d-f3743ec68a46",
   "metadata": {},
   "outputs": [],
   "source": [
    "is_numeric = lambda string : string.isdigit()"
   ]
  },
  {
   "cell_type": "code",
   "execution_count": 31,
   "id": "90185813-a6b9-4114-9445-b8e1d5feb315",
   "metadata": {},
   "outputs": [
    {
     "name": "stdout",
     "output_type": "stream",
     "text": [
      "[('orange', 80), ('mango', 99), ('grapes', 1000)]\n"
     ]
    }
   ],
   "source": [
    "fruits =[(\"mango\",99),(\"orange\",80), (\"grapes\", 1000)]\n",
    "sorted_fruits = sorted(fruits, key =lambda x:x[1])\n",
    "print(sorted_fruits)"
   ]
  },
  {
   "cell_type": "code",
   "execution_count": 15,
   "id": "ac57cffa-6b3a-44a9-81ae-22aaa5946bbe",
   "metadata": {},
   "outputs": [
    {
     "data": {
      "text/plain": [
       "[1, 4, 9, 16, 25, 36, 49, 64, 81, 100]"
      ]
     },
     "execution_count": 15,
     "metadata": {},
     "output_type": "execute_result"
    }
   ],
   "source": [
    "l=list(range(1,11))\n",
    "sq= lambda x :x*x\n",
    "\n",
    "list(map(sq,l))"
   ]
  },
  {
   "cell_type": "code",
   "execution_count": 16,
   "id": "a8909d1b-15a2-48bd-8b53-82de56e262b3",
   "metadata": {},
   "outputs": [
    {
     "data": {
      "text/plain": [
       "[1.0,\n",
       " 1.2599210498948732,\n",
       " 1.4422495703074083,\n",
       " 1.5874010519681994,\n",
       " 1.7099759466766968,\n",
       " 1.8171205928321397,\n",
       " 1.912931182772389,\n",
       " 2.0,\n",
       " 2.080083823051904,\n",
       " 2.154434690031884]"
      ]
     },
     "execution_count": 16,
     "metadata": {},
     "output_type": "execute_result"
    }
   ],
   "source": [
    "l=list(range(1,11))\n",
    "cube_root= lambda x :x**(1/3)\n",
    "\n",
    "list(map(cube_root,l))"
   ]
  },
  {
   "cell_type": "code",
   "execution_count": 20,
   "id": "326e6039-1c08-4e3d-b227-350c6d267d26",
   "metadata": {},
   "outputs": [
    {
     "name": "stdout",
     "output_type": "stream",
     "text": [
      "12  is even\n"
     ]
    }
   ],
   "source": [
    "check_even = lambda x:print(x,' is even')if x%2 == 0 else print(x,' Not even!')\n",
    "\n",
    "check_even(12)"
   ]
  },
  {
   "cell_type": "code",
   "execution_count": 28,
   "id": "61a875f8-c445-4c0f-9a2a-6a56592e63e0",
   "metadata": {},
   "outputs": [
    {
     "name": "stdout",
     "output_type": "stream",
     "text": [
      "[1, 3, 5, 7, 9]\n"
     ]
    }
   ],
   "source": [
    "l=[1,2,3,4,5,6,7,8,9,10]\n",
    "odd=filter(lambda x: x%2 != 0,l)\n",
    "print(list(odd))"
   ]
  },
  {
   "cell_type": "code",
   "execution_count": 29,
   "id": "c036ab0f-62a8-4f8d-8c1b-f51aef039b9f",
   "metadata": {},
   "outputs": [
    {
     "name": "stdout",
     "output_type": "stream",
     "text": [
      "positive numbers are:  [1, 2, 3, 4, 5, 6]\n",
      "negative numbers are:  [-1, -2, -3, -4, -5]\n"
     ]
    }
   ],
   "source": [
    "l2=[1,2,3,4,5,6,-1,-2,-3,-4,-5,0]\n",
    "positive_numbers = [num for num in l2 if num>0]\n",
    "negative_numbers = [num for num in l2 if num<0]\n",
    "\n",
    "print('positive numbers are: ',positive_numbers)\n",
    "print('negative numbers are: ',negative_numbers)\n",
    "\n"
   ]
  },
  {
   "cell_type": "code",
   "execution_count": null,
   "id": "81b0ab80-3b28-491e-81d0-563aa51343ba",
   "metadata": {},
   "outputs": [],
   "source": []
  }
 ],
 "metadata": {
  "kernelspec": {
   "display_name": "Python 3 (ipykernel)",
   "language": "python",
   "name": "python3"
  },
  "language_info": {
   "codemirror_mode": {
    "name": "ipython",
    "version": 3
   },
   "file_extension": ".py",
   "mimetype": "text/x-python",
   "name": "python",
   "nbconvert_exporter": "python",
   "pygments_lexer": "ipython3",
   "version": "3.13.2"
  }
 },
 "nbformat": 4,
 "nbformat_minor": 5
}
