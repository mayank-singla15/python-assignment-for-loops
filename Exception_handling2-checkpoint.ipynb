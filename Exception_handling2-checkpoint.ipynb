{
 "cells": [
  {
   "cell_type": "code",
   "execution_count": 2,
   "id": "3ab88552-afe3-49e7-8a14-ba4c66c5b484",
   "metadata": {},
   "outputs": [
    {
     "data": {
      "text/plain": [
       "\"Q1. Explain why we have to use the Exception class while creating a Custom Exception.\\nWhen creating a custom exception in Python, it's essential to use the Exception class as the base class. This ensures that your custom exception inherits from the base Exception class and behaves like a standard exception in Python.\""
      ]
     },
     "execution_count": 2,
     "metadata": {},
     "output_type": "execute_result"
    }
   ],
   "source": [
    "'''Q1. Explain why we have to use the Exception class while creating a Custom Exception.\n",
    "When creating a custom exception in Python, it's essential to use the Exception class as the base class. This ensures that your custom exception inherits from the base Exception class and behaves like a standard exception in Python.''' "
   ]
  },
  {
   "cell_type": "code",
   "execution_count": 3,
   "id": "82edd2f8-2884-4e47-bac9-925dd0cad675",
   "metadata": {},
   "outputs": [],
   "source": [
    "class NegativeAgeError(Exception):\n",
    "    def __init__(self,msg):\n",
    "        self.msg = msg\n",
    "        \n",
    "    "
   ]
  },
  {
   "cell_type": "code",
   "execution_count": 7,
   "id": "b0fe1e7f-885c-4abd-b66c-278f7cd55b8e",
   "metadata": {},
   "outputs": [
    {
     "name": "stdin",
     "output_type": "stream",
     "text": [
      "Enter your age -4\n"
     ]
    },
    {
     "name": "stdout",
     "output_type": "stream",
     "text": [
      "Error: Age cant be negative\n"
     ]
    }
   ],
   "source": [
    "def check_age(age):\n",
    "    if age < 0:\n",
    "        raise NegativeAgeError('Age cant be negative')\n",
    "    else:\n",
    "        print(f\"Age is{age}\")\n",
    "try:\n",
    "    age = int(input('Enter your age'))\n",
    "    check_age(age)\n",
    "except NegativeAgeError as e:\n",
    "    print(f'Error: {e}')\n",
    "    \n",
    "    \n",
    "    \n",
    "    \n",
    "    "
   ]
  },
  {
   "cell_type": "code",
   "execution_count": 8,
   "id": "a7f73fd9-1089-4c9b-a2e3-6f15762bafcd",
   "metadata": {},
   "outputs": [
    {
     "data": {
      "text/plain": [
       "'Q2. Write a python program to print Python Exception Hierarchy.'"
      ]
     },
     "execution_count": 8,
     "metadata": {},
     "output_type": "execute_result"
    }
   ],
   "source": [
    "'''Q2. Write a python program to print Python Exception Hierarchy.'''"
   ]
  },
  {
   "cell_type": "code",
   "execution_count": 15,
   "id": "e1b3d0e3-c823-415d-97f0-c3500be89aea",
   "metadata": {},
   "outputs": [
    {
     "name": "stdout",
     "output_type": "stream",
     "text": [
      "Python Exception Hierarchy\n",
      "BaseException\n",
      "  BaseExceptionGroup\n",
      "    ExceptionGroup\n",
      "  Exception\n",
      "    ArithmeticError\n",
      "      FloatingPointError\n",
      "      OverflowError\n",
      "      ZeroDivisionError\n",
      "        DivisionByZero\n",
      "        DivisionUndefined\n",
      "      DecimalException\n",
      "        Clamped\n",
      "        Rounded\n",
      "          Underflow\n",
      "          Overflow\n",
      "        Inexact\n",
      "          Underflow\n",
      "          Overflow\n",
      "        Subnormal\n",
      "          Underflow\n",
      "        DivisionByZero\n",
      "        FloatOperation\n",
      "        InvalidOperation\n",
      "          ConversionSyntax\n",
      "          DivisionImpossible\n",
      "          DivisionUndefined\n",
      "          InvalidContext\n",
      "    AssertionError\n",
      "    AttributeError\n",
      "      FrozenInstanceError\n",
      "    BufferError\n",
      "    EOFError\n",
      "      IncompleteReadError\n",
      "    ImportError\n",
      "      ModuleNotFoundError\n",
      "        PackageNotFoundError\n",
      "      ZipImportError\n",
      "    LookupError\n",
      "      IndexError\n",
      "        IllegalMonthError\n",
      "      KeyError\n",
      "        NoSuchKernel\n",
      "        UnknownBackend\n",
      "      CodecRegistryError\n",
      "    MemoryError\n",
      "    NameError\n",
      "      UnboundLocalError\n",
      "    OSError\n",
      "      BlockingIOError\n",
      "      ChildProcessError\n",
      "      ConnectionError\n",
      "        BrokenPipeError\n",
      "        ConnectionAbortedError\n",
      "        ConnectionRefusedError\n",
      "        ConnectionResetError\n",
      "          RemoteDisconnected\n",
      "      FileExistsError\n",
      "      FileNotFoundError\n",
      "      InterruptedError\n",
      "        InterruptedSystemCall\n",
      "      IsADirectoryError\n",
      "      NotADirectoryError\n",
      "      PermissionError\n",
      "      ProcessLookupError\n",
      "      TimeoutError\n",
      "      UnsupportedOperation\n",
      "      herror\n",
      "      gaierror\n",
      "      SSLError\n",
      "        SSLCertVerificationError\n",
      "        SSLZeroReturnError\n",
      "        SSLWantWriteError\n",
      "        SSLWantReadError\n",
      "        SSLSyscallError\n",
      "        SSLEOFError\n",
      "      Error\n",
      "        SameFileError\n",
      "      SpecialFileError\n",
      "      ExecError\n",
      "      ReadError\n",
      "      URLError\n",
      "        HTTPError\n",
      "        ContentTooShortError\n",
      "      BadGzipFile\n",
      "    ReferenceError\n",
      "    RuntimeError\n",
      "      NotImplementedError\n",
      "        UnsupportedOperation\n",
      "        ZMQVersionError\n",
      "        StdinNotImplementedError\n",
      "      PythonFinalizationError\n",
      "      RecursionError\n",
      "      _DeadlockError\n",
      "      BrokenBarrierError\n",
      "      BrokenExecutor\n",
      "        BrokenThreadPool\n",
      "      SendfileNotAvailableError\n",
      "      BrokenBarrierError\n",
      "      VariableError\n",
      "    StopAsyncIteration\n",
      "    StopIteration\n",
      "    SyntaxError\n",
      "      IndentationError\n",
      "        TabError\n",
      "      _IncompleteInputError\n",
      "    SystemError\n",
      "      CodecRegistryError\n",
      "    TypeError\n",
      "      FloatOperation\n",
      "      MultipartConversionError\n",
      "    ValueError\n",
      "      UnicodeError\n",
      "        UnicodeDecodeError\n",
      "        UnicodeEncodeError\n",
      "        UnicodeTranslateError\n",
      "      NotShareableError\n",
      "      UnsupportedOperation\n",
      "      JSONDecodeError\n",
      "      SSLCertVerificationError\n",
      "      Error\n",
      "      UnsupportedDigestmodError\n",
      "      AddressValueError\n",
      "      NetmaskValueError\n",
      "      IllegalMonthError\n",
      "      IllegalWeekdayError\n",
      "      ParserError\n",
      "      ClassNotFound\n",
      "      ClipboardEmpty\n",
      "      MessageDefect\n",
      "        NoBoundaryInMultipartDefect\n",
      "        StartBoundaryNotFoundDefect\n",
      "        CloseBoundaryNotFoundDefect\n",
      "        FirstHeaderLineIsContinuationDefect\n",
      "        MisplacedEnvelopeHeaderDefect\n",
      "        MissingHeaderBodySeparatorDefect\n",
      "        MultipartInvariantViolationDefect\n",
      "        InvalidMultipartContentTransferEncodingDefect\n",
      "        UndecodableBytesDefect\n",
      "        InvalidBase64PaddingDefect\n",
      "        InvalidBase64CharactersDefect\n",
      "        InvalidBase64LengthDefect\n",
      "        HeaderDefect\n",
      "          InvalidHeaderDefect\n",
      "          HeaderMissingRequiredValue\n",
      "          NonPrintableDefect\n",
      "          ObsoleteHeaderDefect\n",
      "          NonASCIILocalPartDefect\n",
      "          InvalidDateDefect\n",
      "      MacroToEdit\n",
      "      InvalidVersion\n",
      "    Warning\n",
      "      BytesWarning\n",
      "      DeprecationWarning\n",
      "        ProvisionalWarning\n",
      "      EncodingWarning\n",
      "      FutureWarning\n",
      "        ProvisionalCompleterWarning\n",
      "      ImportWarning\n",
      "      PendingDeprecationWarning\n",
      "      ResourceWarning\n",
      "      RuntimeWarning\n",
      "        ProactorSelectorThreadWarning\n",
      "        UnknownTimezoneWarning\n",
      "      SyntaxWarning\n",
      "      UnicodeWarning\n",
      "      UserWarning\n",
      "        GetPassWarning\n",
      "        FormatterWarning\n",
      "      DeprecatedTzFormatWarning\n",
      "    InterpreterError\n",
      "      InterpreterNotFoundError\n",
      "    ExceptionGroup\n",
      "    _Error\n",
      "    PatternError\n",
      "    _OptionError\n",
      "    SubprocessError\n",
      "      CalledProcessError\n",
      "      TimeoutExpired\n",
      "    ZMQBaseError\n",
      "      ZMQError\n",
      "        ContextTerminated\n",
      "        Again\n",
      "        InterruptedSystemCall\n",
      "      ZMQBindError\n",
      "      NotDone\n",
      "    error\n",
      "    PickleError\n",
      "      PicklingError\n",
      "      UnpicklingError\n",
      "    _Stop\n",
      "    Error\n",
      "      CancelledError\n",
      "      InvalidStateError\n",
      "    _GiveupOnSendfile\n",
      "    Incomplete\n",
      "    TokenError\n",
      "    ClassFoundException\n",
      "    EndOfBlock\n",
      "    InvalidStateError\n",
      "    LimitOverrunError\n",
      "    QueueEmpty\n",
      "    QueueFull\n",
      "    QueueShutDown\n",
      "    error\n",
      "    LZMAError\n",
      "    RegistryError\n",
      "    _GiveupOnFastCopy\n",
      "    TraitError\n",
      "    Error\n",
      "    Empty\n",
      "    Full\n",
      "    ShutDown\n",
      "    ArgumentError\n",
      "    COMError\n",
      "    ReturnValueIgnoredError\n",
      "    ArgumentError\n",
      "    ArgumentTypeError\n",
      "    ConfigError\n",
      "      ConfigLoaderError\n",
      "        ArgumentError\n",
      "      ConfigFileNotFound\n",
      "    ConfigurableError\n",
      "      MultipleInstanceError\n",
      "    ApplicationError\n",
      "    Error\n",
      "    InvalidPortNumber\n",
      "    NoIPAddresses\n",
      "    BadZipFile\n",
      "    LargeZipFile\n",
      "    TraversalError\n",
      "    DuplicateKernelError\n",
      "    ErrorDuringImport\n",
      "    NotOneValueFound\n",
      "    KnownIssue\n",
      "    VerifierFailure\n",
      "    CannotEval\n",
      "    OptionError\n",
      "    BdbQuit\n",
      "    Restart\n",
      "    FindCmdError\n",
      "    HomeDirError\n",
      "    ProfileDirError\n",
      "    IPythonCoreError\n",
      "      TryNext\n",
      "      UsageError\n",
      "      StdinNotImplementedError\n",
      "    InputRejected\n",
      "    GetoptError\n",
      "    ErrorToken\n",
      "    PrefilterError\n",
      "    AliasError\n",
      "      InvalidAliasError\n",
      "    Error\n",
      "      InterfaceError\n",
      "      DatabaseError\n",
      "        InternalError\n",
      "        OperationalError\n",
      "        ProgrammingError\n",
      "        IntegrityError\n",
      "        DataError\n",
      "        NotSupportedError\n",
      "    Warning\n",
      "    SpaceInInput\n",
      "    DOMException\n",
      "      IndexSizeErr\n",
      "      DomstringSizeErr\n",
      "      HierarchyRequestErr\n",
      "      WrongDocumentErr\n",
      "      InvalidCharacterErr\n",
      "      NoDataAllowedErr\n",
      "      NoModificationAllowedErr\n",
      "      NotFoundErr\n",
      "      NotSupportedErr\n",
      "      InuseAttributeErr\n",
      "      InvalidStateErr\n",
      "      SyntaxErr\n",
      "      InvalidModificationErr\n",
      "      NamespaceErr\n",
      "      InvalidAccessErr\n",
      "      ValidationErr\n",
      "    ValidationError\n",
      "    EditReadOnlyBuffer\n",
      "    _Retry\n",
      "    InvalidLayoutError\n",
      "    HeightIsUnknownError\n",
      "    ExpatError\n",
      "    ParseEscape\n",
      "    GuardRejection\n",
      "    ParserSyntaxError\n",
      "    InternalParseError\n",
      "    _PositionUpdatingFinished\n",
      "    SimpleGetItemNotFound\n",
      "    UncaughtAttributeError\n",
      "    HasNoContext\n",
      "    ParamIssue\n",
      "    _JediError\n",
      "      InternalError\n",
      "      WrongVersion\n",
      "      RefactoringError\n",
      "    OnErrorLeaf\n",
      "    InvalidPythonEnvironment\n",
      "    MessageError\n",
      "      MessageParseError\n",
      "        HeaderParseError\n",
      "        BoundaryError\n",
      "      MultipartConversionError\n",
      "      CharsetError\n",
      "      HeaderWriteError\n",
      "    HTTPException\n",
      "      NotConnected\n",
      "      InvalidURL\n",
      "      UnknownProtocol\n",
      "      UnknownTransferEncoding\n",
      "      UnimplementedFileMode\n",
      "      IncompleteRead\n",
      "      ImproperConnectionState\n",
      "        CannotSendRequest\n",
      "        CannotSendHeader\n",
      "        ResponseNotReady\n",
      "      BadStatusLine\n",
      "        RemoteDisconnected\n",
      "      LineTooLong\n",
      "    InteractivelyDefined\n",
      "    KillEmbedded\n",
      "    Error\n",
      "      NoSuchProcess\n",
      "        ZombieProcess\n",
      "      AccessDenied\n",
      "      TimeoutExpired\n",
      "    Error\n",
      "    TimeoutExpired\n",
      "    TimeoutAbandoned\n",
      "    KeyReuseError\n",
      "    UnknownKeyError\n",
      "    LeakedCallbackError\n",
      "    BadYieldError\n",
      "    ReturnValueIgnoredError\n",
      "    Return\n",
      "    QueueEmpty\n",
      "    QueueFull\n",
      "    DebuggerInitializationError\n",
      "    Error\n",
      "      ProtocolError\n",
      "      ResponseError\n",
      "      Fault\n",
      "    _Error\n",
      "    UnableToResolveVariableException\n",
      "    InvalidTypeInArgsException\n",
      "    NegativeAgeError\n",
      "  GeneratorExit\n",
      "  KeyboardInterrupt\n",
      "  SystemExit\n",
      "  CancelledError\n"
     ]
    }
   ],
   "source": [
    "import inspect\n",
    "def print_exception_hierarchy(cls,level=0):\n",
    "    print('  '*level+cls.__name__)\n",
    "    for subclass in cls.__subclasses__():\n",
    "        print_exception_hierarchy(subclass,level+1)\n",
    "print('Python Exception Hierarchy')\n",
    "print_exception_hierarchy(BaseException)"
   ]
  },
  {
   "cell_type": "code",
   "execution_count": 17,
   "id": "03fce6ec-bbc9-415c-b755-4453a1ea2ae7",
   "metadata": {},
   "outputs": [
    {
     "data": {
      "text/plain": [
       "'Q3. What errors are defined in the ArithmeticError class? Explain any two with an example.\\nErrors Defined in ArithmeticError:\\nOverflowError: This occurs when a numerical calculation exceeds the range that can be handled by the underlying system. For example, trying to store a number that is too large for the data type.\\n\\nZeroDivisionError: This occurs when a number is divided by zero, which is mathematically undefined and leads to an error in Python.\\n\\nFloatingPointError: This occurs when a floating-point operation cannot be completed, often due to issues like invalid results in floating-point arithmetic.'"
      ]
     },
     "execution_count": 17,
     "metadata": {},
     "output_type": "execute_result"
    }
   ],
   "source": [
    "'''Q3. What errors are defined in the ArithmeticError class? Explain any two with an example.\n",
    "Errors Defined in ArithmeticError:\n",
    "OverflowError: This occurs when a numerical calculation exceeds the range that can be handled by the underlying system. For example, trying to store a number that is too large for the data type.\n",
    "\n",
    "ZeroDivisionError: This occurs when a number is divided by zero, which is mathematically undefined and leads to an error in Python.\n",
    "\n",
    "FloatingPointError: This occurs when a floating-point operation cannot be completed, often due to issues like invalid results in floating-point arithmetic.'''"
   ]
  },
  {
   "cell_type": "code",
   "execution_count": 18,
   "id": "3af8abd6-775f-4383-a2b3-0b7960473ecc",
   "metadata": {},
   "outputs": [
    {
     "name": "stdout",
     "output_type": "stream",
     "text": [
      "Caught an error: division by zero\n"
     ]
    }
   ],
   "source": [
    "try:\n",
    "    result=10/0\n",
    "except ZeroDivisionError as e:\n",
    "    print(f'Caught an error: {e}')"
   ]
  },
  {
   "cell_type": "code",
   "execution_count": 19,
   "id": "5352b9dd-e1e8-4d1c-b6f3-3189cadc0aa2",
   "metadata": {},
   "outputs": [
    {
     "name": "stdout",
     "output_type": "stream",
     "text": [
      "Caught an error : math range error\n"
     ]
    }
   ],
   "source": [
    "import math\n",
    "try:\n",
    "    result = math.exp(1000)\n",
    "except OverflowError as e:\n",
    "    print(f'Caught an error : {e}')"
   ]
  },
  {
   "cell_type": "code",
   "execution_count": 20,
   "id": "7627df86-f822-4096-b015-84bfb6ae5807",
   "metadata": {},
   "outputs": [
    {
     "data": {
      "text/plain": [
       "'Q4. Why LookupError class is used? Explain with an example KeyError and IndexError.\\nUse of LookupError:\\nThe LookupError class is used to indicate errors that occur when an invalid index or key is accessed. This can happen in various data structures, like:\\n\\nDictionaries (for invalid keys)\\n\\nLists, tuples, and other sequences (for out-of-bounds indices)'"
      ]
     },
     "execution_count": 20,
     "metadata": {},
     "output_type": "execute_result"
    }
   ],
   "source": [
    "'''Q4. Why LookupError class is used? Explain with an example KeyError and IndexError.\n",
    "Use of LookupError:\n",
    "The LookupError class is used to indicate errors that occur when an invalid index or key is accessed. This can happen in various data structures, like:\n",
    "\n",
    "Dictionaries (for invalid keys)\n",
    "\n",
    "Lists, tuples, and other sequences (for out-of-bounds indices)'''"
   ]
  },
  {
   "cell_type": "code",
   "execution_count": 25,
   "id": "1f6d09e7-34da-46ef-a1d3-aa1114d36a26",
   "metadata": {},
   "outputs": [
    {
     "name": "stdout",
     "output_type": "stream",
     "text": [
      "Caught an error list index out of range\n"
     ]
    }
   ],
   "source": [
    "l=[1,2,3,4]\n",
    "try:\n",
    "    value= l[5]\n",
    "except IndexError as e:\n",
    "    print(f'Caught an error {e}')"
   ]
  },
  {
   "cell_type": "code",
   "execution_count": 23,
   "id": "f7bc0180-388b-46a7-be78-fe39d69166c7",
   "metadata": {},
   "outputs": [
    {
     "name": "stdout",
     "output_type": "stream",
     "text": [
      "Caught an error: 'gender'\n"
     ]
    }
   ],
   "source": [
    "my_dict = {'name':'mayank','age':25}\n",
    "try:\n",
    "    valur = my_dict['gender']\n",
    "except KeyError as e:\n",
    "    print(f'Caught an error: {e}')"
   ]
  },
  {
   "cell_type": "code",
   "execution_count": 27,
   "id": "3db3a76a-18db-4a2f-bbe8-372d811873e7",
   "metadata": {},
   "outputs": [
    {
     "data": {
      "text/plain": [
       "'Q5. Explain ImportError. What is ModuleNotFoundError?\\nImportError is the general exception raised when there is an issue with importing a module or when a specific function, class, or attribute cannot be found in the module. It is a built-in exception in Python.\\n\\nModuleNotFoundError is a subclass of ImportError that is more specific and is raised when a module cannot be found during the import process.\\n'"
      ]
     },
     "execution_count": 27,
     "metadata": {},
     "output_type": "execute_result"
    }
   ],
   "source": [
    "'''Q5. Explain ImportError. What is ModuleNotFoundError?\n",
    "ImportError is the general exception raised when there is an issue with importing a module or when a specific function, class, or attribute cannot be found in the module. It is a built-in exception in Python.\n",
    "\n",
    "ModuleNotFoundError is a subclass of ImportError that is more specific and is raised when a module cannot be found during the import process.\n",
    "'''"
   ]
  },
  {
   "cell_type": "code",
   "execution_count": 28,
   "id": "269a9d36-eaa7-4607-9748-380c19856669",
   "metadata": {},
   "outputs": [
    {
     "name": "stdout",
     "output_type": "stream",
     "text": [
      "Caught an ImportError: cannot import name 'non_existent_function' from 'math' (unknown location)\n"
     ]
    }
   ],
   "source": [
    "try:\n",
    "    from math import non_existent_function\n",
    "except ImportError as e:\n",
    "    print(f'Caught an ImportError: {e}')"
   ]
  },
  {
   "cell_type": "code",
   "execution_count": 30,
   "id": "ebb547ec-cc19-4c79-a420-3b211126b502",
   "metadata": {},
   "outputs": [
    {
     "name": "stdout",
     "output_type": "stream",
     "text": [
      "Caught an ModuleNotFoundError: No module named 'non_existent_module'\n"
     ]
    }
   ],
   "source": [
    "try:\n",
    "    import non_existent_module\n",
    "except ModuleNotFoundError as e:\n",
    "    print(f'Caught an ModuleNotFoundError: {e}')"
   ]
  },
  {
   "cell_type": "code",
   "execution_count": 31,
   "id": "911f2a0b-c687-4b2d-b840-8d53b440fc97",
   "metadata": {},
   "outputs": [
    {
     "data": {
      "text/plain": [
       "'Q6. List down some best practices for exception handling in python.'"
      ]
     },
     "execution_count": 31,
     "metadata": {},
     "output_type": "execute_result"
    }
   ],
   "source": [
    "'''Q6. List down some best practices for exception handling in python.'''"
   ]
  },
  {
   "cell_type": "code",
   "execution_count": 33,
   "id": "07555dc0-8fbc-42a1-a7d1-4a3e401ea65c",
   "metadata": {},
   "outputs": [
    {
     "name": "stdin",
     "output_type": "stream",
     "text": [
      "Enter a number: 3\n"
     ]
    }
   ],
   "source": [
    "# 1. Catch Specific Exceptions, Not General Exceptions\n",
    "\n",
    "try:\n",
    "    value = int(input('Enter a number:'))\n",
    "except ValueError as e:\n",
    "    print(f'Invalid input: {e}')"
   ]
  },
  {
   "cell_type": "code",
   "execution_count": 34,
   "id": "ce8e1953-5b39-44ca-99e6-cf398592caef",
   "metadata": {},
   "outputs": [
    {
     "name": "stdout",
     "output_type": "stream",
     "text": [
      "Result is :5.0\n"
     ]
    }
   ],
   "source": [
    "# 2. Use else for Code That May Not Raise an Exception\n",
    "\n",
    "try:\n",
    "    result = 10/2\n",
    "except ZeroDivisionError:\n",
    "    print('cant divide by zero!')\n",
    "else:\n",
    "    print(f'Result is :{result}')"
   ]
  },
  {
   "cell_type": "code",
   "execution_count": 37,
   "id": "375e13b1-2bde-42ac-88a7-83cd33beff4a",
   "metadata": {},
   "outputs": [
    {
     "name": "stdout",
     "output_type": "stream",
     "text": [
      "File not FOund!\n"
     ]
    },
    {
     "ename": "NameError",
     "evalue": "name 'file' is not defined",
     "output_type": "error",
     "traceback": [
      "\u001b[1;31m---------------------------------------------------------------------------\u001b[0m",
      "\u001b[1;31mNameError\u001b[0m                                 Traceback (most recent call last)",
      "Cell \u001b[1;32mIn[37], line 7\u001b[0m\n\u001b[0;32m      5\u001b[0m     \u001b[38;5;28mprint\u001b[39m(\u001b[38;5;124m'\u001b[39m\u001b[38;5;124mFile not FOund!\u001b[39m\u001b[38;5;124m'\u001b[39m)\n\u001b[0;32m      6\u001b[0m \u001b[38;5;28;01mfinally\u001b[39;00m:\n\u001b[1;32m----> 7\u001b[0m     \u001b[43mfile\u001b[49m\u001b[38;5;241m.\u001b[39mclose()\n\u001b[0;32m      8\u001b[0m     \u001b[38;5;28mprint\u001b[39m(\u001b[38;5;124m'\u001b[39m\u001b[38;5;124mFile closed\u001b[39m\u001b[38;5;124m'\u001b[39m)\n",
      "\u001b[1;31mNameError\u001b[0m: name 'file' is not defined"
     ]
    }
   ],
   "source": [
    "# 3. Use finally for Cleanup Code\n",
    "try:\n",
    "    file=open('file.txt','r')\n",
    "except FileNotFoundError:\n",
    "    print('File not FOund!')\n",
    "finally:\n",
    "    file.close()\n",
    "    print('File closed')"
   ]
  },
  {
   "cell_type": "code",
   "execution_count": 38,
   "id": "2f0271de-8d5d-4565-9eb4-d25e438d6fbb",
   "metadata": {},
   "outputs": [
    {
     "name": "stderr",
     "output_type": "stream",
     "text": [
      "ERROR:root:An error occurerddivision by zero\n",
      "Traceback (most recent call last):\n",
      "  File \"C:\\Users\\91870\\AppData\\Local\\Temp\\ipykernel_12884\\4230752764.py\", line 5, in <module>\n",
      "    result= 10/0\n",
      "            ~~^~\n",
      "ZeroDivisionError: division by zero\n"
     ]
    }
   ],
   "source": [
    "# 5. Log Exceptions for Debugging and Monitoring\n",
    "import logging\n",
    "logging.basicConfig(level = logging.ERROR)\n",
    "try:\n",
    "    result= 10/0\n",
    "except ZeroDivisionError as e:\n",
    "    logging.error(f'An error occurerd{e}',exc_info =True)\n",
    "    "
   ]
  },
  {
   "cell_type": "code",
   "execution_count": 39,
   "id": "1d451f80-8f71-4556-ae3c-001ad0533996",
   "metadata": {},
   "outputs": [
    {
     "name": "stdout",
     "output_type": "stream",
     "text": [
      "Handled error:  division by zero\n"
     ]
    },
    {
     "ename": "ZeroDivisionError",
     "evalue": "division by zero",
     "output_type": "error",
     "traceback": [
      "\u001b[1;31m---------------------------------------------------------------------------\u001b[0m",
      "\u001b[1;31mZeroDivisionError\u001b[0m                         Traceback (most recent call last)",
      "Cell \u001b[1;32mIn[39], line 3\u001b[0m\n\u001b[0;32m      1\u001b[0m \u001b[38;5;66;03m# 6. Re-raise Exceptions When Necessary\u001b[39;00m\n\u001b[0;32m      2\u001b[0m \u001b[38;5;28;01mtry\u001b[39;00m:\n\u001b[1;32m----> 3\u001b[0m     result\u001b[38;5;241m=\u001b[39m\u001b[38;5;241;43m10\u001b[39;49m\u001b[38;5;241;43m/\u001b[39;49m\u001b[38;5;241;43m0\u001b[39;49m\n\u001b[0;32m      4\u001b[0m \u001b[38;5;28;01mexcept\u001b[39;00m \u001b[38;5;167;01mZeroDivisionError\u001b[39;00m \u001b[38;5;28;01mas\u001b[39;00m e:\n\u001b[0;32m      5\u001b[0m     \u001b[38;5;28mprint\u001b[39m(\u001b[38;5;124mf\u001b[39m\u001b[38;5;124m'\u001b[39m\u001b[38;5;124mHandled error:  \u001b[39m\u001b[38;5;132;01m{\u001b[39;00me\u001b[38;5;132;01m}\u001b[39;00m\u001b[38;5;124m'\u001b[39m)\n",
      "\u001b[1;31mZeroDivisionError\u001b[0m: division by zero"
     ]
    }
   ],
   "source": [
    "# 6. Re-raise Exceptions When Necessary\n",
    "try:\n",
    "    result=10/0\n",
    "except ZeroDivisionError as e:\n",
    "    print(f'Handled error:  {e}')\n",
    "    raise\n",
    "    "
   ]
  },
  {
   "cell_type": "code",
   "execution_count": 43,
   "id": "22f97400-8f1e-4812-a83c-c5c7f8adb6d7",
   "metadata": {},
   "outputs": [
    {
     "name": "stdout",
     "output_type": "stream",
     "text": [
      "Age cannot be negative: -5\n"
     ]
    }
   ],
   "source": [
    "# 7. Use Custom Exception Classes for Clearer Errors\n",
    "class NegativeAgeError(Exception):\n",
    "    def __init__(self,age):\n",
    "        self.age = age\n",
    "        super().__init__(f'Age cannot be negative: {self.age}')\n",
    "try:\n",
    "    age= -5\n",
    "    if age<0:\n",
    "        raise NegativeAgeError(age)\n",
    "except NegativeAgeError as e:\n",
    "    print(e)"
   ]
  },
  {
   "cell_type": "code",
   "execution_count": 44,
   "id": "3179b6e2-d663-4028-9205-f22787716405",
   "metadata": {},
   "outputs": [
    {
     "name": "stdin",
     "output_type": "stream",
     "text": [
      "ENter your age 4\n"
     ]
    }
   ],
   "source": [
    "# 8. Handle Expected Exceptions and Let Unexpected Exceptions Propagate\n",
    "\n",
    "try:\n",
    "    age= int(input('ENter your age'))\n",
    "except ValueError:\n",
    "    print('Print enter a valid number for age')"
   ]
  },
  {
   "cell_type": "code",
   "execution_count": 45,
   "id": "025777f5-e0af-4268-8624-0f19c31d931f",
   "metadata": {},
   "outputs": [
    {
     "ename": "NameError",
     "evalue": "name 'some_condition' is not defined",
     "output_type": "error",
     "traceback": [
      "\u001b[1;31m---------------------------------------------------------------------------\u001b[0m",
      "\u001b[1;31mNameError\u001b[0m                                 Traceback (most recent call last)",
      "Cell \u001b[1;32mIn[45], line 4\u001b[0m\n\u001b[0;32m      2\u001b[0m \u001b[38;5;28;01mtry\u001b[39;00m:\n\u001b[0;32m      3\u001b[0m     \u001b[38;5;28;01mwhile\u001b[39;00m \u001b[38;5;28;01mTrue\u001b[39;00m:\n\u001b[1;32m----> 4\u001b[0m         \u001b[38;5;28;01mif\u001b[39;00m \u001b[38;5;129;01mnot\u001b[39;00m \u001b[43msome_condition\u001b[49m():\n\u001b[0;32m      5\u001b[0m             \u001b[38;5;28;01mraise\u001b[39;00m \u001b[38;5;167;01mStopIteration\u001b[39;00m\n\u001b[0;32m      6\u001b[0m \u001b[38;5;28;01mexcept\u001b[39;00m \u001b[38;5;167;01mStopIteration\u001b[39;00m:\n",
      "\u001b[1;31mNameError\u001b[0m: name 'some_condition' is not defined"
     ]
    }
   ],
   "source": [
    "# 9. Avoid Overusing Exception Handling for Flow Control\n",
    "try:\n",
    "    while True:\n",
    "        if not some_condition():\n",
    "            raise StopIteration\n",
    "except StopIteration:\n",
    "    print('condition met, exiting loop')\n",
    " "
   ]
  },
  {
   "cell_type": "code",
   "execution_count": 46,
   "id": "bf0df46c-dc3e-485d-b253-acfa9a256f71",
   "metadata": {},
   "outputs": [],
   "source": [
    "# 10. Document Your Exception Handling Logic\n",
    "\n",
    "def  divide_numbers(a,b):\n",
    "    '''\n",
    "    Divides two numbers and handles ZeroDivisionError\n",
    "    \n",
    "    :param a:Numerator\n",
    "    :param b: Denominator\n",
    "    :return: Result of division or error message\n",
    "    '''\n",
    "    try:\n",
    "        return a/b\n",
    "    except ZeroDivisionError:\n",
    "        return 'Error:Cannot divide by zero'"
   ]
  },
  {
   "cell_type": "code",
   "execution_count": null,
   "id": "c4e94835-2037-4b68-9f7a-589e411e8fa8",
   "metadata": {},
   "outputs": [],
   "source": []
  }
 ],
 "metadata": {
  "kernelspec": {
   "display_name": "Python 3 (ipykernel)",
   "language": "python",
   "name": "python3"
  },
  "language_info": {
   "codemirror_mode": {
    "name": "ipython",
    "version": 3
   },
   "file_extension": ".py",
   "mimetype": "text/x-python",
   "name": "python",
   "nbconvert_exporter": "python",
   "pygments_lexer": "ipython3",
   "version": "3.13.2"
  }
 },
 "nbformat": 4,
 "nbformat_minor": 5
}
