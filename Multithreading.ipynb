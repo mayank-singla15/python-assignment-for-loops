{
 "cells": [
  {
   "cell_type": "code",
   "execution_count": 1,
   "id": "5e450b9c-a728-45e0-a8bb-257c22d0e86b",
   "metadata": {},
   "outputs": [
    {
     "data": {
      "text/plain": [
       "'Q1. What is multithreading in python? Why is it used? Name the module used to handle threads in python.'"
      ]
     },
     "execution_count": 1,
     "metadata": {},
     "output_type": "execute_result"
    }
   ],
   "source": [
    "'''Q1. What is multithreading in python? Why is it used? Name the module used to handle threads in python.\n",
    "Multithreading in Python is the concurrent execution of more than one task (thread) at a time within a program. It allows you to execute multiple threads in parallel, potentially improving the efficiency of certain types of programs. Threads are lightweight processes that share the same memory space but can execute independently. In Python, multithreading is commonly used to make programs more efficient, especially when there are tasks that are I/O bound (like network operations, reading from or writing to a file).\n",
    "\n",
    "Why is Multithreading Used?\n",
    "Multithreading is used to achieve several goals:\n",
    "\n",
    "Concurrency: It helps in running multiple tasks concurrently, which is especially useful when tasks are independent of each other.\n",
    "\n",
    "Improved Performance: Multithreading is particularly useful when there are I/O-bound tasks like waiting for data from a network or reading large files. While one thread is waiting for I/O operations, others can continue executing.\n",
    "\n",
    "Resource Sharing: Since threads in the same program share the same memory space, they can efficiently share resources like data structures.\n",
    "\n",
    "Responsiveness: It can improve the responsiveness of programs, especially those with graphical user interfaces (GUIs) where you don't want the main interface to freeze while background tasks are running.\n",
    "\n",
    "However, it’s worth noting that Python's Global Interpreter Lock (GIL) limits the true parallel execution of threads in CPU-bound tasks, so for computationally intensive tasks, multiprocessing might be more effective.\n",
    "\n",
    "Module Used to Handle Threads in Python\n",
    "In Python, the threading module is used to work with threads. It provides a higher-level interface to create, manage, and control threads.'''"
   ]
  },
  {
   "cell_type": "code",
   "execution_count": 11,
   "id": "84f1e3e0-be37-4f29-a07e-1222ecf4e4e6",
   "metadata": {},
   "outputs": [
    {
     "name": "stdout",
     "output_type": "stream",
     "text": [
      "0\n",
      "1\n",
      "4\n",
      "9\n",
      "16\n",
      "Thread has finished execution\n"
     ]
    }
   ],
   "source": [
    "import threading\n",
    "def print_squares():\n",
    "    for i in range(5):\n",
    "        print(i*i)\n",
    "\n",
    "thread = threading.Thread(target=print_squares)\n",
    "thread.start()\n",
    "thread.join()\n",
    "print('Thread has finished execution')\n"
   ]
  },
  {
   "cell_type": "code",
   "execution_count": null,
   "id": "4a947aa8-9564-496e-bd22-744613112cf3",
   "metadata": {},
   "outputs": [],
   "source": [
    "\n"
   ]
  },
  {
   "cell_type": "code",
   "execution_count": 12,
   "id": "78e0da2c-fe2b-4406-9b38-e4b88edacacb",
   "metadata": {},
   "outputs": [
    {
     "data": {
      "text/plain": [
       "'Q2. Why threading module used? Write the use of the following functions\\n( activeCount(\\n currentThread(\\n enumerate()\\n \\n \\n The threading module in Python is used to handle threads and allows you to run multiple threads concurrently within a program. It simplifies the process of creating and managing threads, enabling the development of more efficient and responsive programs. The module provides a variety of tools to create threads, synchronize them, manage locks, and handle thread-related exceptions.\\n\\nHere are some key reasons to use the threading module:\\n\\nConcurrency: It allows you to run multiple tasks in parallel, improving program efficiency, especially for I/O-bound tasks.\\n\\nThread Management: It provides functions to create, manage, and interact with threads easily.\\n\\nSynchronization: It helps manage race conditions and ensures data integrity when threads share resources.\\n\\nDaemon Threads: The module allows you to create daemon threads, which automatically exit when the main program exits.'"
      ]
     },
     "execution_count": 12,
     "metadata": {},
     "output_type": "execute_result"
    }
   ],
   "source": [
    "'''Q2. Why threading module used? Write the use of the following functions\n",
    "( activeCount(\n",
    " currentThread(\n",
    " enumerate()\n",
    " \n",
    " \n",
    " The threading module in Python is used to handle threads and allows you to run multiple threads concurrently within a program. It simplifies the process of creating and managing threads, enabling the development of more efficient and responsive programs. The module provides a variety of tools to create threads, synchronize them, manage locks, and handle thread-related exceptions.\n",
    "\n",
    "Here are some key reasons to use the threading module:\n",
    "\n",
    "Concurrency: It allows you to run multiple tasks in parallel, improving program efficiency, especially for I/O-bound tasks.\n",
    "\n",
    "Thread Management: It provides functions to create, manage, and interact with threads easily.\n",
    "\n",
    "Synchronization: It helps manage race conditions and ensures data integrity when threads share resources.\n",
    "\n",
    "Daemon Threads: The module allows you to create daemon threads, which automatically exit when the main program exits.'''"
   ]
  },
  {
   "cell_type": "code",
   "execution_count": 15,
   "id": "ebee5f72-6e4b-44fd-b91d-9d9ada1af621",
   "metadata": {},
   "outputs": [
    {
     "name": "stderr",
     "output_type": "stream",
     "text": [
      "C:\\Users\\91870\\AppData\\Local\\Temp\\ipykernel_26756\\2512261787.py:12: DeprecationWarning: activeCount() is deprecated, use active_count() instead\n",
      "  print(f'Active threads: {threading.activeCount()}')\n"
     ]
    },
    {
     "name": "stdout",
     "output_type": "stream",
     "text": [
      "Active threads: 8\n",
      "Active threads: 6\n"
     ]
    },
    {
     "name": "stderr",
     "output_type": "stream",
     "text": [
      "C:\\Users\\91870\\AppData\\Local\\Temp\\ipykernel_26756\\2512261787.py:17: DeprecationWarning: activeCount() is deprecated, use active_count() instead\n",
      "  print(f'Active threads: {threading.activeCount()}')\n"
     ]
    }
   ],
   "source": [
    "import threading\n",
    "import time\n",
    "\n",
    "def example_thread():\n",
    "    time.sleep(2)\n",
    "t1= threading.Thread(target=example_thread)\n",
    "t2= threading.Thread(target =example_thread)\n",
    "\n",
    "t1.start()\n",
    "t2.start()\n",
    "\n",
    "print(f'Active threads: {threading.activeCount()}')\n",
    "\n",
    "t1.join()\n",
    "t2.join()\n",
    "\n",
    "print(f'Active threads: {threading.activeCount()}')"
   ]
  },
  {
   "cell_type": "code",
   "execution_count": 18,
   "id": "2a766d3d-af0c-4c26-9a26-7578c2ed52cd",
   "metadata": {},
   "outputs": [
    {
     "name": "stdout",
     "output_type": "stream",
     "text": [
      "Current thread: Thread-16 (print_thread_name)\n"
     ]
    },
    {
     "name": "stderr",
     "output_type": "stream",
     "text": [
      "C:\\Users\\91870\\AppData\\Local\\Temp\\ipykernel_26756\\1290494543.py:3: DeprecationWarning: currentThread() is deprecated, use current_thread() instead\n",
      "  print(f'Current thread: {threading.currentThread().name}')\n"
     ]
    }
   ],
   "source": [
    "import threading\n",
    "def print_thread_name():\n",
    "    print(f'Current thread: {threading.currentThread().name}')\n",
    "\n",
    "t1= threading.Thread (target= print_thread_name)\n",
    "t1.start()\n"
   ]
  },
  {
   "cell_type": "code",
   "execution_count": 19,
   "id": "d1caf9f2-cf9b-4c93-9b35-0ae733768002",
   "metadata": {},
   "outputs": [
    {
     "name": "stdout",
     "output_type": "stream",
     "text": [
      "Active threads: [<_MainThread(MainThread, started 1888)>, <Thread(IOPub, started daemon 15520)>, <Heartbeat(Heartbeat, started daemon 11976)>, <ControlThread(Control, started daemon 10352)>, <HistorySavingThread(IPythonHistorySavingThread, started 18992)>, <ParentPollerWindows(Thread-1, started daemon 7376)>]\n"
     ]
    }
   ],
   "source": [
    "import threading\n",
    "def example_thread():\n",
    "    pass\n",
    "threads=[]\n",
    "for _ in range(3):\n",
    "    t=threading.Thread(target = example_thread)\n",
    "    threads.append(t)\n",
    "    t.start()\n",
    "\n",
    "active_threads = threading.enumerate()\n",
    "print(f'Active threads: {active_threads}')"
   ]
  },
  {
   "cell_type": "code",
   "execution_count": 3,
   "id": "09454e77-ce48-4780-bc56-efe6dc739eff",
   "metadata": {},
   "outputs": [
    {
     "data": {
      "text/plain": [
       "\"Q3. Explain the following functions\\n( run(\\n start(\\n join(\\n' isAlive()\""
      ]
     },
     "execution_count": 3,
     "metadata": {},
     "output_type": "execute_result"
    }
   ],
   "source": [
    "'''Q3. Explain the following functions\n",
    "( run(\n",
    " start(\n",
    " join(\n",
    "' isAlive()'''"
   ]
  },
  {
   "cell_type": "code",
   "execution_count": 20,
   "id": "f2f67024-d979-41ce-bec7-5e532039967a",
   "metadata": {},
   "outputs": [
    {
     "name": "stdout",
     "output_type": "stream",
     "text": [
      "custom run method is running\n"
     ]
    }
   ],
   "source": [
    "import threading\n",
    "\n",
    "def my_thread_function():\n",
    "    print('Thread is running!')\n",
    "\n",
    "class MyThread(threading.Thread):\n",
    "    def run(self):\n",
    "        print('custom run method is running')\n",
    "        my_thread_function\n",
    "thread = MyThread()\n",
    "thread.start()"
   ]
  },
  {
   "cell_type": "code",
   "execution_count": 25,
   "id": "38d6a7da-811e-4180-9321-22fc0279d867",
   "metadata": {},
   "outputs": [
    {
     "name": "stdout",
     "output_type": "stream",
     "text": [
      "0Main thread is running\n",
      "\n",
      "1\n",
      "2\n"
     ]
    }
   ],
   "source": [
    "import threading\n",
    "def print_numbers():\n",
    "    for i in range(3):\n",
    "        print(i)\n",
    "        \n",
    "t=threading.Thread(target= print_numbers)\n",
    "t.start()\n",
    "print('Main thread is running')\n",
    "\n"
   ]
  },
  {
   "cell_type": "code",
   "execution_count": 28,
   "id": "fa8ca71d-0a58-41aa-aec1-abe4b7d4ccf1",
   "metadata": {},
   "outputs": [
    {
     "name": "stdout",
     "output_type": "stream",
     "text": [
      "Task finished!\n",
      "main thread is done waiting\n"
     ]
    }
   ],
   "source": [
    "import threading\n",
    "import time\n",
    "def long_task():\n",
    "    time.sleep(2)\n",
    "    print('Task finished!')\n",
    "\n",
    "t= threading.Thread(target = long_task)\n",
    "t.start()\n",
    "t.join()\n",
    "print(\"main thread is done waiting\")"
   ]
  },
  {
   "cell_type": "code",
   "execution_count": 34,
   "id": "3db25527-8921-4d06-aae7-299557c8395b",
   "metadata": {},
   "outputs": [
    {
     "name": "stdout",
     "output_type": "stream",
     "text": [
      "Is thread alive?True\n",
      "Task finished!\n",
      "Is thread alive?False\n"
     ]
    }
   ],
   "source": [
    "import threading\n",
    "import time\n",
    "def task():\n",
    "    time.sleep(2)\n",
    "    print('Task finished!')\n",
    "\n",
    "tns=threading.Thread(target=task)\n",
    "tns.start()\n",
    "print(f'Is thread alive?{tns.is_alive()}')\n",
    "tns.join()\n",
    "print(f'Is thread alive?{tns.is_alive()}')"
   ]
  },
  {
   "cell_type": "code",
   "execution_count": 4,
   "id": "efc7a0c9-cfa0-47e6-aadd-c5c5f026baeb",
   "metadata": {},
   "outputs": [
    {
     "data": {
      "text/plain": [
       "'Q4. Write a python program to create two threads. Thread one must print the list of squares and thread\\ntwo must print the list of cubes.'"
      ]
     },
     "execution_count": 4,
     "metadata": {},
     "output_type": "execute_result"
    }
   ],
   "source": [
    "'''Q4. Write a python program to create two threads. Thread one must print the list of squares and thread\n",
    "two must print the list of cubes.'''"
   ]
  },
  {
   "cell_type": "code",
   "execution_count": 52,
   "id": "e92433db-4b40-4f3b-a655-72a41dd48eaa",
   "metadata": {},
   "outputs": [
    {
     "name": "stdout",
     "output_type": "stream",
     "text": [
      "[1, 4, 9, 16, 25, 36, 49, 64, 81]\n",
      "[1, 8, 27, 64, 125, 216, 343, 512, 729]\n"
     ]
    }
   ],
   "source": [
    "import threading\n",
    "list_square=[]\n",
    "list_cube =[]\n",
    "def square():\n",
    "    for i in range(1,10):\n",
    "        list_square.append(i**2)\n",
    "    print(list_square)    \n",
    "        \n",
    "        \n",
    "def cube():\n",
    "    for i in range(1,10):\n",
    "        \n",
    "        list_cube.append(i**3)\n",
    "    print(list_cube)    \n",
    "\n",
    "tnt1=threading.Thread(target= square)\n",
    "tnt2=threading.Thread(target= cube)\n",
    "\n",
    "tnt1.start()\n",
    "tnt2.start()\n",
    "\n",
    "tnt1.join()\n",
    "tnt2.join()\n",
    "\n",
    "\n",
    "\n",
    "\n",
    "        "
   ]
  },
  {
   "cell_type": "code",
   "execution_count": null,
   "id": "79f5ba07-48f0-45cf-b8f8-2020b7073feb",
   "metadata": {},
   "outputs": [],
   "source": []
  },
  {
   "cell_type": "code",
   "execution_count": 42,
   "id": "102e4172-26e5-461a-bb97-e2e55fe7bef7",
   "metadata": {},
   "outputs": [
    {
     "data": {
      "text/plain": [
       "'Q5. State advantages and disadvantages of multithreading.'"
      ]
     },
     "execution_count": 42,
     "metadata": {},
     "output_type": "execute_result"
    }
   ],
   "source": [
    "'''Q5. State advantages and disadvantages of multithreading.'''"
   ]
  },
  {
   "cell_type": "code",
   "execution_count": 1,
   "id": "6bf779e0-3ffa-41ff-84b5-6f69f0906f9f",
   "metadata": {},
   "outputs": [
    {
     "data": {
      "text/plain": [
       "\"✅ Advantages of Multithreading in Python\\nImproved performance for I/O-bound tasks\\nThreads can run concurrently while waiting for things like file I/O, network responses, etc.\\n\\nBetter resource utilization\\nThreads share the same memory space, so it's more efficient than using multiple processes.\\n\\nSimpler code for concurrent tasks\\nUseful when you need to perform multiple tasks at once (e.g., downloading multiple files).\\n\\nResponsiveness\\nUseful in applications like GUIs or servers where blocking the main thread can freeze the app.\\n\\n❌ Disadvantages of Multithreading in Python\\nGlobal Interpreter Lock (GIL)\\nPython’s GIL allows only one thread to execute Python bytecode at a time — limiting CPU-bound performance.\\n\\nComplexity\\nMultithreaded code can be harder to debug and maintain due to race conditions, deadlocks, etc.\\n\\nNo true parallelism for CPU-bound tasks\\nFor heavy computation, multiprocessing is often better.\""
      ]
     },
     "execution_count": 1,
     "metadata": {},
     "output_type": "execute_result"
    }
   ],
   "source": [
    "'''✅ Advantages of Multithreading in Python\n",
    "Improved performance for I/O-bound tasks\n",
    "Threads can run concurrently while waiting for things like file I/O, network responses, etc.\n",
    "\n",
    "Better resource utilization\n",
    "Threads share the same memory space, so it's more efficient than using multiple processes.\n",
    "\n",
    "Simpler code for concurrent tasks\n",
    "Useful when you need to perform multiple tasks at once (e.g., downloading multiple files).\n",
    "\n",
    "Responsiveness\n",
    "Useful in applications like GUIs or servers where blocking the main thread can freeze the app.\n",
    "\n",
    "❌ Disadvantages of Multithreading in Python\n",
    "Global Interpreter Lock (GIL)\n",
    "Python’s GIL allows only one thread to execute Python bytecode at a time — limiting CPU-bound performance.\n",
    "\n",
    "Complexity\n",
    "Multithreaded code can be harder to debug and maintain due to race conditions, deadlocks, etc.\n",
    "\n",
    "No true parallelism for CPU-bound tasks\n",
    "For heavy computation, multiprocessing is often better.'''"
   ]
  },
  {
   "cell_type": "code",
   "execution_count": 7,
   "id": "ed9f52fc-a95b-429d-9cbe-0895145cdf36",
   "metadata": {},
   "outputs": [
    {
     "name": "stdout",
     "output_type": "stream",
     "text": [
      "Number: 0\n",
      "Letter:A\n",
      "Number: 1Letter:B\n",
      "\n",
      "Number: 2Letter:C\n",
      "\n",
      "Number: 3Letter:D\n",
      "\n",
      "Letter:ENumber: 4\n",
      "\n",
      "done with multithreading example!\n"
     ]
    }
   ],
   "source": [
    "import threading\n",
    "import time\n",
    "\n",
    "def print_numbers():\n",
    "    for i in range(5):\n",
    "        print(f'Number: {i}')\n",
    "        time.sleep(1)\n",
    "\n",
    "def print_letter():\n",
    "    for letter in 'ABCDE':\n",
    "        print(f'Letter:{letter}')\n",
    "        time.sleep(1)\n",
    "\n",
    "t1 = threading.Thread(target=print_numbers)\n",
    "t2= threading.Thread(target = print_letter)\n",
    "\n",
    "t1.start()\n",
    "t2.start()\n",
    "\n",
    "t1.join()\n",
    "t2.join()\n",
    "\n",
    "print('done with multithreading example!')"
   ]
  },
  {
   "cell_type": "code",
   "execution_count": null,
   "id": "09a64a6f-aa8c-4e46-879d-e482c81f6cfd",
   "metadata": {},
   "outputs": [],
   "source": []
  },
  {
   "cell_type": "code",
   "execution_count": 6,
   "id": "21f2f36d-ff52-471e-9cd0-daaaa15a6e4c",
   "metadata": {},
   "outputs": [
    {
     "data": {
      "text/plain": [
       "'Q6. Explain deadlocks and race conditions.'"
      ]
     },
     "execution_count": 6,
     "metadata": {},
     "output_type": "execute_result"
    }
   ],
   "source": [
    "'''Q6. Explain deadlocks and race conditions.'''"
   ]
  },
  {
   "cell_type": "code",
   "execution_count": 8,
   "id": "8252bd6f-3c76-4b56-b0b1-9906ccab1f0d",
   "metadata": {},
   "outputs": [
    {
     "data": {
      "text/plain": [
       "'🔒 1. Deadlock\\n🔹 Definition:\\nA deadlock happens when two or more threads are waiting for each other’s resources, and none can proceed — like a traffic jam where cars block each other endlessly.'"
      ]
     },
     "execution_count": 8,
     "metadata": {},
     "output_type": "execute_result"
    }
   ],
   "source": [
    "'''🔒 1. Deadlock\n",
    "🔹 Definition:\n",
    "A deadlock happens when two or more threads are waiting for each other’s resources, and none can proceed — like a traffic jam where cars block each other endlessly.'''"
   ]
  },
  {
   "cell_type": "code",
   "execution_count": 13,
   "id": "57b63375-ea1a-4c39-a3b5-d0c5fa568959",
   "metadata": {},
   "outputs": [
    {
     "name": "stdout",
     "output_type": "stream",
     "text": [
      "Thread 1 acquired Lock 1\n",
      "Thread 1 acquired Lock2\n",
      "Thread 2 acquired lock2\n",
      "Thread 2 acquired lock 1\n"
     ]
    }
   ],
   "source": [
    "import threading\n",
    "import time\n",
    "\n",
    "lock1 = threading.Lock()\n",
    "lock2 = threading.Lock()\n",
    "\n",
    "def thread1():\n",
    "    with lock1:\n",
    "        print('Thread 1 acquired Lock 1')\n",
    "        \n",
    "        with lock2:\n",
    "            print('Thread 1 acquired Lock2')\n",
    "\n",
    "def thread2():\n",
    "    with lock2:\n",
    "        print('Thread 2 acquired lock2')\n",
    "        with lock1:\n",
    "            print('Thread 2 acquired lock 1')\n",
    "\n",
    "t1 = threading.Thread(target=thread1)\n",
    "t2 = threading.Thread(target = thread2)\n",
    "\n",
    "t1.start()\n",
    "t2.start()\n"
   ]
  },
  {
   "cell_type": "code",
   "execution_count": 14,
   "id": "00be0c6d-ebe8-4fd4-9482-092cb23a56b1",
   "metadata": {},
   "outputs": [
    {
     "data": {
      "text/plain": [
       "'⚠️ 2. Race Condition\\n🔹 Definition:\\nA race condition occurs when two or more threads access shared data at the same time, and the final result depends on the timing — leading to unpredictable or incorrect results.'"
      ]
     },
     "execution_count": 14,
     "metadata": {},
     "output_type": "execute_result"
    }
   ],
   "source": [
    "'''⚠️ 2. Race Condition\n",
    "🔹 Definition:\n",
    "A race condition occurs when two or more threads access shared data at the same time, and the final result depends on the timing — leading to unpredictable or incorrect results.'''"
   ]
  },
  {
   "cell_type": "code",
   "execution_count": 15,
   "id": "78342923-a0e6-4d54-8fa5-b94548e4ce1d",
   "metadata": {},
   "outputs": [
    {
     "name": "stdout",
     "output_type": "stream",
     "text": [
      "Final count: 0\n"
     ]
    }
   ],
   "source": [
    "import threading\n",
    "count = 0\n",
    "\n",
    "def increment():\n",
    "    global count\n",
    "    for _ in range(100000):\n",
    "        count += 1\n",
    "threads =[]\n",
    "for _ in range(2):\n",
    "    t= threading.Thread()\n",
    "    threads.append(t)\n",
    "    t.start()\n",
    "\n",
    "for t in threads:\n",
    "    t.join()\n",
    "\n",
    "\n",
    "print('Final count:',count)\n",
    "\n"
   ]
  },
  {
   "cell_type": "code",
   "execution_count": null,
   "id": "ecdf7e02-fb31-48f0-9426-346f9b3a8ff9",
   "metadata": {},
   "outputs": [],
   "source": []
  }
 ],
 "metadata": {
  "kernelspec": {
   "display_name": "Python 3 (ipykernel)",
   "language": "python",
   "name": "python3"
  },
  "language_info": {
   "codemirror_mode": {
    "name": "ipython",
    "version": 3
   },
   "file_extension": ".py",
   "mimetype": "text/x-python",
   "name": "python",
   "nbconvert_exporter": "python",
   "pygments_lexer": "ipython3",
   "version": "3.13.2"
  }
 },
 "nbformat": 4,
 "nbformat_minor": 5
}
