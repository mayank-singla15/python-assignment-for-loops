{
 "cells": [
  {
   "cell_type": "code",
   "execution_count": 1,
   "id": "c6f8da68-0883-40b7-96c2-9995524f11f3",
   "metadata": {},
   "outputs": [
    {
     "data": {
      "text/plain": [
       "'Q1. Explain Class and Object with respect to Object-Oriented Programming. Give a suitable example.'"
      ]
     },
     "execution_count": 1,
     "metadata": {},
     "output_type": "execute_result"
    }
   ],
   "source": [
    "'''Q1. Explain Class and Object with respect to Object-Oriented Programming. Give a suitable example.'''"
   ]
  },
  {
   "cell_type": "code",
   "execution_count": 2,
   "id": "dd3d75fc-d549-4601-9547-362caf8d2356",
   "metadata": {},
   "outputs": [
    {
     "data": {
      "text/plain": [
       "'Class and Object in Object-Oriented Programming (OOP)\\nClass\\nA class is a blueprint or template for creating objects.\\nIt defines the properties (attributes) and behaviors (methods) that the objects created from it will have.\\nA class itself does not occupy memory until it is instantiated (i.e., used to create an object).\\nObject\\nAn object is an instance of a class. It represents a specific entity that has the attributes and behaviors defined by the class.\\nMultiple objects can be created from the same class, each with its own unique state.'"
      ]
     },
     "execution_count": 2,
     "metadata": {},
     "output_type": "execute_result"
    }
   ],
   "source": [
    "'''Class and Object in Object-Oriented Programming (OOP)\n",
    "Class\n",
    "A class is a blueprint or template for creating objects.\n",
    "It defines the properties (attributes) and behaviors (methods) that the objects created from it will have.\n",
    "A class itself does not occupy memory until it is instantiated (i.e., used to create an object).\n",
    "Object\n",
    "An object is an instance of a class. It represents a specific entity that has the attributes and behaviors defined by the class.\n",
    "Multiple objects can be created from the same class, each with its own unique state.'''"
   ]
  },
  {
   "cell_type": "code",
   "execution_count": 11,
   "id": "5f66eca7-bfdb-4165-92af-c6a631138700",
   "metadata": {},
   "outputs": [],
   "source": [
    "class car:\n",
    "    def __init__(self,company,model,variant,year):\n",
    "        self.company=company\n",
    "        self.model=model\n",
    "        self.variant=variant\n",
    "        self.year=year\n",
    "    def car_details(self):\n",
    "        return self.company,self.model,self.variant,self.year\n",
    "        "
   ]
  },
  {
   "cell_type": "code",
   "execution_count": 12,
   "id": "10d33d10-ab61-4ea9-a46b-39dad44166c0",
   "metadata": {},
   "outputs": [],
   "source": [
    "car1=car('toyota','innova','crysta','2022')"
   ]
  },
  {
   "cell_type": "code",
   "execution_count": 13,
   "id": "5d3dc868-d129-44b9-b05b-88c10b216e01",
   "metadata": {},
   "outputs": [
    {
     "data": {
      "text/plain": [
       "('toyota', 'innova', 'crysta', '2022')"
      ]
     },
     "execution_count": 13,
     "metadata": {},
     "output_type": "execute_result"
    }
   ],
   "source": [
    "car1.car_details()"
   ]
  },
  {
   "cell_type": "code",
   "execution_count": 14,
   "id": "17110ff1-1ebd-4c8f-877a-c409255d3fd8",
   "metadata": {},
   "outputs": [
    {
     "data": {
      "text/plain": [
       "'toyota'"
      ]
     },
     "execution_count": 14,
     "metadata": {},
     "output_type": "execute_result"
    }
   ],
   "source": [
    "car1.company"
   ]
  },
  {
   "cell_type": "code",
   "execution_count": 15,
   "id": "969f7b50-9106-4945-815f-8ebc89abec1b",
   "metadata": {},
   "outputs": [
    {
     "data": {
      "text/plain": [
       "'innova'"
      ]
     },
     "execution_count": 15,
     "metadata": {},
     "output_type": "execute_result"
    }
   ],
   "source": [
    "car1.model"
   ]
  },
  {
   "cell_type": "code",
   "execution_count": 16,
   "id": "735e0bc6-55be-4386-acd8-9b7f7121b123",
   "metadata": {},
   "outputs": [
    {
     "data": {
      "text/plain": [
       "'crysta'"
      ]
     },
     "execution_count": 16,
     "metadata": {},
     "output_type": "execute_result"
    }
   ],
   "source": [
    "car1.variant"
   ]
  },
  {
   "cell_type": "code",
   "execution_count": 17,
   "id": "04c0d950-ce8d-48cc-bff9-536b6839f56c",
   "metadata": {},
   "outputs": [
    {
     "data": {
      "text/plain": [
       "'2022'"
      ]
     },
     "execution_count": 17,
     "metadata": {},
     "output_type": "execute_result"
    }
   ],
   "source": [
    "car1.year"
   ]
  },
  {
   "cell_type": "code",
   "execution_count": 18,
   "id": "0787e84f-64a0-4813-8dd7-b25c6cac99c2",
   "metadata": {},
   "outputs": [
    {
     "data": {
      "text/plain": [
       "'Q2. Name the four pillars of OOPs.'"
      ]
     },
     "execution_count": 18,
     "metadata": {},
     "output_type": "execute_result"
    }
   ],
   "source": [
    "'''Q2. Name the four pillars of OOPs.'''\n"
   ]
  },
  {
   "cell_type": "code",
   "execution_count": 95,
   "id": "f9c5036b-6ef0-4616-b45d-e4e3b34db06a",
   "metadata": {},
   "outputs": [
    {
     "data": {
      "text/plain": [
       "'Polymorphism:\\n\\nPolymorphism allows methods to have the same name but behave differently based on the object or context.\\nIt enables flexibility and simplifies code by using a single interface for multiple types.'"
      ]
     },
     "execution_count": 95,
     "metadata": {},
     "output_type": "execute_result"
    }
   ],
   "source": [
    "'''Polymorphism:\n",
    "\n",
    "Polymorphism allows methods to have the same name but behave differently based on the object or context.\n",
    "It enables flexibility and simplifies code by using a single interface for multiple types.'''\n"
   ]
  },
  {
   "cell_type": "code",
   "execution_count": 86,
   "id": "47f5f2ee-dd34-45ff-915d-8a3445400891",
   "metadata": {},
   "outputs": [],
   "source": [
    "class data_science:\n",
    "    def syllabus(self):\n",
    "        print('this is my data science masters class')\n",
    "\n"
   ]
  },
  {
   "cell_type": "code",
   "execution_count": 87,
   "id": "1102fd3c-cc9e-4480-a522-541884f3fdf2",
   "metadata": {},
   "outputs": [],
   "source": [
    "class web_dev:\n",
    "    def syllabus(self):\n",
    "        print('this is my web development class')"
   ]
  },
  {
   "cell_type": "code",
   "execution_count": 91,
   "id": "14cc5e50-d975-4c6b-9168-aa83f53dead4",
   "metadata": {},
   "outputs": [],
   "source": [
    "def class_parcer (class_obj):\n",
    "    for i in class_obj:\n",
    "       i.syllabus()\n",
    "            \n",
    "        "
   ]
  },
  {
   "cell_type": "code",
   "execution_count": 92,
   "id": "0424d69a-58f6-42e6-a4ee-d66e15e916d2",
   "metadata": {},
   "outputs": [],
   "source": [
    "data=data_science()\n",
    "web=web_dev()\n",
    "l=[data,web]"
   ]
  },
  {
   "cell_type": "code",
   "execution_count": 93,
   "id": "1196c1df-4b42-449b-ada3-816b968cf9fe",
   "metadata": {},
   "outputs": [
    {
     "name": "stdout",
     "output_type": "stream",
     "text": [
      "this is my data science masters class\n",
      "this is my web development class\n"
     ]
    }
   ],
   "source": [
    "class_parcer(l)"
   ]
  },
  {
   "cell_type": "code",
   "execution_count": null,
   "id": "ca9192ff-5251-4ab2-a4db-a3b90225798b",
   "metadata": {},
   "outputs": [],
   "source": [
    "'''Encapsulation:\n",
    "\n",
    "Encapsulation is the bundling of data (attributes) and methods (functions) that operate on the data into a single unit (class).\n",
    "It also involves restricting direct access to some of the object's components to maintain control over data integrity.\n",
    "'''"
   ]
  },
  {
   "cell_type": "code",
   "execution_count": 129,
   "id": "99458330-23bf-4f4e-9b0b-2a6bdb087d0f",
   "metadata": {},
   "outputs": [],
   "source": [
    "class bank_balance:\n",
    "    def __init__(self,balance):\n",
    "        self.__balance=balance\n",
    "    def deposit(self,amount):\n",
    "        self.__balance=__.balance+amount\n",
    "    def withdraw(self,amount):\n",
    "        if  self.__balance>=amount:\n",
    "            \n",
    "            self.__balance=self.__balance-amount\n",
    "            \n",
    "            return True\n",
    "        else:\n",
    "            return False\n",
    "    \n",
    "       \n",
    "    \n",
    "    def get_balance(self):\n",
    "        return self.__balance\n",
    "        \n",
    "    \n",
    "    \n",
    "        \n",
    "        \n",
    "        \n"
   ]
  },
  {
   "cell_type": "code",
   "execution_count": 130,
   "id": "11795c1d-cce8-4321-a72a-5b155dd908a3",
   "metadata": {},
   "outputs": [],
   "source": [
    "mayank=bank_balance(2000)"
   ]
  },
  {
   "cell_type": "code",
   "execution_count": 131,
   "id": "40df5d81-0a47-47a3-94b5-0da285fdad42",
   "metadata": {},
   "outputs": [
    {
     "data": {
      "text/plain": [
       "2000"
      ]
     },
     "execution_count": 131,
     "metadata": {},
     "output_type": "execute_result"
    }
   ],
   "source": [
    "mayank.get_balance()"
   ]
  },
  {
   "cell_type": "code",
   "execution_count": null,
   "id": "1c44d19c-507b-4378-a58f-a94fa83e87f3",
   "metadata": {},
   "outputs": [],
   "source": [
    "'''Inheritance:\n",
    "\n",
    "Inheritance allows a class (child or derived class) to inherit attributes and methods from another class (parent or base class).\n",
    "It promotes code reuse and establishes a hierarchical relationship between classes.\n",
    "'''"
   ]
  },
  {
   "cell_type": "code",
   "execution_count": 134,
   "id": "488aedce-9cb0-47a8-95a7-3e4ee33c20ca",
   "metadata": {},
   "outputs": [],
   "source": [
    "class class1:\n",
    "    def test_class1(self):\n",
    "        return 'this is my first class' \n",
    "class class2(class1):\n",
    "    def test_class2(self):\n",
    "        return'this is my second class'\n",
    "class class3(class2):\n",
    "     def test_class3(self):\n",
    "        return'this is my third class'\n",
    "class class4(class3):\n",
    "    pass\n",
    "    "
   ]
  },
  {
   "cell_type": "code",
   "execution_count": 135,
   "id": "49f1ffb7-c767-4517-b492-88af78c9ecc6",
   "metadata": {},
   "outputs": [],
   "source": [
    "mayank=class4()"
   ]
  },
  {
   "cell_type": "code",
   "execution_count": 136,
   "id": "68138267-d30f-449c-8ab0-e2328a5ad406",
   "metadata": {},
   "outputs": [
    {
     "data": {
      "text/plain": [
       "'this is my first class'"
      ]
     },
     "execution_count": 136,
     "metadata": {},
     "output_type": "execute_result"
    }
   ],
   "source": [
    "mayank.test_class1()"
   ]
  },
  {
   "cell_type": "code",
   "execution_count": 137,
   "id": "53ec1293-c9e1-4730-a3d0-518cefbfcfb2",
   "metadata": {},
   "outputs": [
    {
     "data": {
      "text/plain": [
       "'Abstraction:\\n\\nAbstraction involves hiding the complex implementation details of a system and exposing only the essential features to the user.\\nIt is often achieved through abstract classes or interfaces.'"
      ]
     },
     "execution_count": 137,
     "metadata": {},
     "output_type": "execute_result"
    }
   ],
   "source": [
    "'''Abstraction:\n",
    "\n",
    "Abstraction involves hiding the complex implementation details of a system and exposing only the essential features to the user.\n",
    "It is often achieved through abstract classes or interfaces.'''"
   ]
  },
  {
   "cell_type": "code",
   "execution_count": 139,
   "id": "6b1c0bfc-3981-4d3f-97e2-b5490330a95f",
   "metadata": {},
   "outputs": [],
   "source": [
    "import abc\n",
    "class pwskills:\n",
    "    @abc.abstractmethod\n",
    "    def student_details(self):\n",
    "        pass\n",
    "    @abc.abstractmethod\n",
    "    def student_assignment(self):\n",
    "        pass\n",
    "    @abc.abstractmethod\n",
    "    def student_marks(self):\n",
    "        pass"
   ]
  },
  {
   "cell_type": "code",
   "execution_count": 141,
   "id": "7b567117-6cab-4b08-8c49-75452d66f790",
   "metadata": {},
   "outputs": [],
   "source": [
    "class data_science(pwskills):\n",
    "    def student_details(self):\n",
    "        return 'this will return student details in data science masters batch'\n",
    "    def student_assignment(self):    \n",
    "        return 'this will return student\"s assignment related to data science'\n",
    "    "
   ]
  },
  {
   "cell_type": "code",
   "execution_count": 142,
   "id": "a90cdd5a-dff6-4886-a640-23b700da3968",
   "metadata": {},
   "outputs": [],
   "source": [
    "class web_dev(pwskills):\n",
    "    def student_details(self):\n",
    "        return 'this will return details regarding web development'\n",
    "    def student_assignment(self):\n",
    "        return 'this will show assignments of web dev class'"
   ]
  },
  {
   "cell_type": "code",
   "execution_count": 143,
   "id": "8e3e6224-4141-4e55-bba6-7bd1ddc2d7cd",
   "metadata": {},
   "outputs": [],
   "source": [
    "data=data_science()"
   ]
  },
  {
   "cell_type": "code",
   "execution_count": 144,
   "id": "06d0a375-157f-475b-a9f4-491214122c3c",
   "metadata": {},
   "outputs": [],
   "source": [
    "web=web_dev()"
   ]
  },
  {
   "cell_type": "code",
   "execution_count": 145,
   "id": "b4155430-fb57-4183-b1ca-a04c1a5b67f0",
   "metadata": {},
   "outputs": [
    {
     "data": {
      "text/plain": [
       "'this will return student\"s assignment related to data science'"
      ]
     },
     "execution_count": 145,
     "metadata": {},
     "output_type": "execute_result"
    }
   ],
   "source": [
    "data.student_assignment()"
   ]
  },
  {
   "cell_type": "code",
   "execution_count": 146,
   "id": "309fad40-2126-4332-94eb-961c8d81a493",
   "metadata": {},
   "outputs": [
    {
     "data": {
      "text/plain": [
       "'this will show assignments of web dev class'"
      ]
     },
     "execution_count": 146,
     "metadata": {},
     "output_type": "execute_result"
    }
   ],
   "source": [
    "web.student_assignment()"
   ]
  },
  {
   "cell_type": "code",
   "execution_count": 153,
   "id": "52af5961-4d15-4ae3-b92e-06f2de36ca93",
   "metadata": {},
   "outputs": [
    {
     "data": {
      "text/plain": [
       "'Q3. Explain why the __init__() function is used. Give a suitable example.\\n\\nThe __init__() function is a special method in Python classes. It is known as the constructor method and is automatically called when a new object is created from a class.\\n\\nPurpose of __init__():\\n\\nIt initializes the attributes (properties) of the object with default or specific values.\\nEncapsulation of Object Creation Logic:\\n\\nEnsures that the object starts with a valid state by encapsulating necessary setup logic.\\n\\n\\nIt is invoked automatically during the creation of an object, making the initialization process seamless.'"
      ]
     },
     "execution_count": 153,
     "metadata": {},
     "output_type": "execute_result"
    }
   ],
   "source": [
    "'''Q3. Explain why the __init__() function is used. Give a suitable example.\n",
    "\n",
    "The __init__() function is a special method in Python classes. It is known as the constructor method and is automatically called when a new object is created from a class.\n",
    "\n",
    "Purpose of __init__():\n",
    "\n",
    "It initializes the attributes (properties) of the object with default or specific values.\n",
    "Encapsulation of Object Creation Logic:\n",
    "\n",
    "Ensures that the object starts with a valid state by encapsulating necessary setup logic.\n",
    "\n",
    "\n",
    "It is invoked automatically during the creation of an object, making the initialization process seamless.'''\n"
   ]
  },
  {
   "cell_type": "code",
   "execution_count": 148,
   "id": "8d8be4f8-71c9-4ef9-ac43-7a70e07a6a1f",
   "metadata": {},
   "outputs": [],
   "source": [
    "class stu_det:\n",
    "    def __init__(self,phone_number,email_id,student_id):\n",
    "        self.phone_number=phone_number\n",
    "        self.email_id=email_id\n",
    "        self.student_id=student_id\n",
    "    def stud_details(self):\n",
    "        return self.phone_number,self.email_id,self.student_id"
   ]
  },
  {
   "cell_type": "code",
   "execution_count": 150,
   "id": "03fd44be-7106-4227-9873-9cc1978b9188",
   "metadata": {},
   "outputs": [],
   "source": [
    "rohan=stu_det(91564212,'rohan@hgmail.com',2210)"
   ]
  },
  {
   "cell_type": "code",
   "execution_count": 152,
   "id": "2459b364-5b7a-4bca-be03-80213181bfb2",
   "metadata": {},
   "outputs": [
    {
     "data": {
      "text/plain": [
       "(91564212, 'rohan@hgmail.com', 2210)"
      ]
     },
     "execution_count": 152,
     "metadata": {},
     "output_type": "execute_result"
    }
   ],
   "source": [
    "rohan.stud_details()\n"
   ]
  },
  {
   "cell_type": "code",
   "execution_count": 154,
   "id": "5c9c228d-6eb6-489c-a6c7-36b157a5d35b",
   "metadata": {},
   "outputs": [
    {
     "data": {
      "text/plain": [
       "'Q4. Why self is used in OOPs?'"
      ]
     },
     "execution_count": 154,
     "metadata": {},
     "output_type": "execute_result"
    }
   ],
   "source": [
    "'''Q4. Why self is used in OOPs?\n",
    "\n",
    "In Python, self is a reference to the current instance of the class. It is used to access attributes and methods of the object within the class. While defining methods in a class, self must be the first parameter of instance methods to explicitly reference the specific object the method is being called on.'''"
   ]
  },
  {
   "cell_type": "code",
   "execution_count": 155,
   "id": "7617848e-4db6-495c-a637-ec5002f977c8",
   "metadata": {},
   "outputs": [
    {
     "data": {
      "text/plain": [
       "'What is inheritance? Give an example for each type of inheritance.\\n\\n\\nInheritance is an object-oriented programming (OOP) feature that allows one class (called the child class or derived class) to inherit the attributes and methods of another class (called the parent class or base class). It promotes code reuse, modularity, and hierarchical organization.\\n\\n'"
      ]
     },
     "execution_count": 155,
     "metadata": {},
     "output_type": "execute_result"
    }
   ],
   "source": [
    "'''What is inheritance? Give an example for each type of inheritance.\n",
    "\n",
    "\n",
    "Inheritance is an object-oriented programming (OOP) feature that allows one class (called the child class or derived class) to inherit the attributes and methods of another class (called the parent class or base class). It promotes code reuse, modularity, and hierarchical organization.\n",
    "\n",
    "'''"
   ]
  },
  {
   "cell_type": "code",
   "execution_count": 158,
   "id": "2a0707cb-22a5-45c5-9280-f53e38314662",
   "metadata": {},
   "outputs": [],
   "source": [
    "###1.Single Inheritance\n",
    "\n",
    "class movie:\n",
    "    def writer(self):\n",
    "        return 'writes the script'\n",
    "class film(movie): \n",
    "    def actor(self):\n",
    "        return 'performs according to script'"
   ]
  },
  {
   "cell_type": "code",
   "execution_count": 159,
   "id": "6cf2e548-182e-4178-9181-e2ec2d1cfa7b",
   "metadata": {},
   "outputs": [],
   "source": [
    "akshay=film()"
   ]
  },
  {
   "cell_type": "code",
   "execution_count": 161,
   "id": "b8fcbc11-f6e6-4b02-852a-2a46de2f024f",
   "metadata": {},
   "outputs": [
    {
     "data": {
      "text/plain": [
       "'writes the script'"
      ]
     },
     "execution_count": 161,
     "metadata": {},
     "output_type": "execute_result"
    }
   ],
   "source": [
    "akshay.writer()"
   ]
  },
  {
   "cell_type": "code",
   "execution_count": 165,
   "id": "530e9bff-8aad-4951-9e7b-cf22d626f6cc",
   "metadata": {},
   "outputs": [],
   "source": [
    "### 2.Multiple Inheritance\n",
    "class father:\n",
    "    def skill(self):\n",
    "        return 'sharp mind'\n",
    "class mother:\n",
    "    def skill(self):\n",
    "        return 'cooking skills'\n",
    "class child(father,mother):\n",
    "    pass\n",
    "    \n",
    "    "
   ]
  },
  {
   "cell_type": "code",
   "execution_count": 166,
   "id": "a16c255f-f7e4-41fc-8a8b-8f88b2c7268d",
   "metadata": {},
   "outputs": [],
   "source": [
    "child=child()"
   ]
  },
  {
   "cell_type": "code",
   "execution_count": 167,
   "id": "ff70e11b-ade7-4e46-bff6-957b55b03dc5",
   "metadata": {},
   "outputs": [
    {
     "data": {
      "text/plain": [
       "'sharp mind'"
      ]
     },
     "execution_count": 167,
     "metadata": {},
     "output_type": "execute_result"
    }
   ],
   "source": [
    "child.skill()"
   ]
  },
  {
   "cell_type": "code",
   "execution_count": 170,
   "id": "9f6851ce-de38-4383-95ee-f89fc7369586",
   "metadata": {},
   "outputs": [],
   "source": [
    "###Multilevel Inheritance\n",
    "class grandparents:\n",
    "    def legacy(self):\n",
    "        return \"grandparent's legacy\"\n",
    "class parents(grandparents):  \n",
    "    def wealth(self):\n",
    "        return \"Parent's wealth\"\n",
    "class child(parents):\n",
    "    def skill(self):\n",
    "        return 'skills acquired by child'\n",
    "        "
   ]
  },
  {
   "cell_type": "code",
   "execution_count": 171,
   "id": "3350e51c-5ac9-4486-aec3-9152908ca7ac",
   "metadata": {},
   "outputs": [],
   "source": [
    "child=child()\n"
   ]
  },
  {
   "cell_type": "code",
   "execution_count": 173,
   "id": "6c01185f-0836-483a-b844-9c3b3af12b2d",
   "metadata": {},
   "outputs": [
    {
     "data": {
      "text/plain": [
       "\"grandparent's legacy\""
      ]
     },
     "execution_count": 173,
     "metadata": {},
     "output_type": "execute_result"
    }
   ],
   "source": [
    "child.legacy()\n"
   ]
  },
  {
   "cell_type": "code",
   "execution_count": 174,
   "id": "0e0ffae9-cf6e-4e42-b38c-c970a2a51def",
   "metadata": {},
   "outputs": [
    {
     "data": {
      "text/plain": [
       "\"Parent's wealth\""
      ]
     },
     "execution_count": 174,
     "metadata": {},
     "output_type": "execute_result"
    }
   ],
   "source": [
    "child.wealth()\n"
   ]
  },
  {
   "cell_type": "code",
   "execution_count": 175,
   "id": "1ca84dca-f066-4412-a4cf-c27544fb3d3e",
   "metadata": {},
   "outputs": [
    {
     "data": {
      "text/plain": [
       "'skills acquired by child'"
      ]
     },
     "execution_count": 175,
     "metadata": {},
     "output_type": "execute_result"
    }
   ],
   "source": [
    "child.skill()\n"
   ]
  },
  {
   "cell_type": "code",
   "execution_count": 177,
   "id": "514e7670-5dcd-45c1-8e29-f22965834a57",
   "metadata": {},
   "outputs": [],
   "source": [
    "#hierarchial Inheritance\n",
    "class vehicle:\n",
    "    def start(self):\n",
    "        return 'vehicle starts'\n",
    "class car(vehicle):\n",
    "    def car(self):\n",
    "        return 'person drives a car'\n",
    "class bike(vehicle):\n",
    "    def bike(self):\n",
    "        return 'biker rides on bike'\n",
    "\n"
   ]
  },
  {
   "cell_type": "code",
   "execution_count": 178,
   "id": "de5de2bb-8f31-422e-8695-33308f1ca470",
   "metadata": {},
   "outputs": [],
   "source": [
    "car=car()\n",
    "bike=bike()"
   ]
  },
  {
   "cell_type": "code",
   "execution_count": 179,
   "id": "697147f3-9f9d-4e07-bf75-3b0c7cb721ed",
   "metadata": {},
   "outputs": [
    {
     "data": {
      "text/plain": [
       "'vehicle starts'"
      ]
     },
     "execution_count": 179,
     "metadata": {},
     "output_type": "execute_result"
    }
   ],
   "source": [
    "car.start()"
   ]
  },
  {
   "cell_type": "code",
   "execution_count": 180,
   "id": "711ff237-38ab-468a-a4f0-a03415796acb",
   "metadata": {},
   "outputs": [
    {
     "data": {
      "text/plain": [
       "'person drives a car'"
      ]
     },
     "execution_count": 180,
     "metadata": {},
     "output_type": "execute_result"
    }
   ],
   "source": [
    "car.car()"
   ]
  },
  {
   "cell_type": "code",
   "execution_count": 184,
   "id": "6cec134b-394a-4ffb-8227-66e13a03e08b",
   "metadata": {},
   "outputs": [],
   "source": [
    "### Hybrid Inheritance\n",
    "class person:\n",
    "    def personality(self):\n",
    "        return 'person has its own personality'\n",
    "class father(person):\n",
    "    def provide(self):\n",
    "        return 'father provides'\n",
    "class mother(person):\n",
    "    def nurture(self):\n",
    "        return 'mother nutures'\n",
    "class child(father,mother):\n",
    "    def play(self):\n",
    "          return 'child plays'\n",
    "  "
   ]
  },
  {
   "cell_type": "code",
   "execution_count": null,
   "id": "709ead0b-625c-42c1-8a68-ca0cc52f76fa",
   "metadata": {},
   "outputs": [],
   "source": []
  }
 ],
 "metadata": {
  "kernelspec": {
   "display_name": "Python 3 (ipykernel)",
   "language": "python",
   "name": "python3"
  },
  "language_info": {
   "codemirror_mode": {
    "name": "ipython",
    "version": 3
   },
   "file_extension": ".py",
   "mimetype": "text/x-python",
   "name": "python",
   "nbconvert_exporter": "python",
   "pygments_lexer": "ipython3",
   "version": "3.13.0"
  }
 },
 "nbformat": 4,
 "nbformat_minor": 5
}
