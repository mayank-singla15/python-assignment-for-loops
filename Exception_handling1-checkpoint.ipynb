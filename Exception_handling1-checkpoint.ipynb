{
 "cells": [
  {
   "cell_type": "code",
   "execution_count": 1,
   "id": "7d8df55f-401b-453f-899b-e9b28c9aa9c9",
   "metadata": {},
   "outputs": [
    {
     "data": {
      "text/plain": [
       "'Q1. What is an Exception in python? Write the difference between Exceptions and Syntax errors.'"
      ]
     },
     "execution_count": 1,
     "metadata": {},
     "output_type": "execute_result"
    }
   ],
   "source": [
    "'''Q1. What is an Exception in python? Write the difference between Exceptions and Syntax errors.'''"
   ]
  },
  {
   "cell_type": "code",
   "execution_count": 2,
   "id": "bf38b581-2070-47da-a698-04d740205fe4",
   "metadata": {},
   "outputs": [
    {
     "name": "stdout",
     "output_type": "stream",
     "text": [
      "You cannot divide by zero!\n"
     ]
    }
   ],
   "source": [
    "# In Python, an exception is an event that disrupts the normal flow of the program. It occurs when a program encounters an error during execution, which is not a syntax issue, but a runtime issue. When an exception is raised, it stops the normal execution of the program and looks for a way to handle the error. If the exception is not handled, the program will terminate and display an error message.\n",
    "try:\n",
    "    num= 10/0\n",
    "except:\n",
    "    print('You cannot divide by zero!')"
   ]
  },
  {
   "cell_type": "code",
   "execution_count": 3,
   "id": "a58f7dcb-763e-4a8c-849d-558ac7435295",
   "metadata": {},
   "outputs": [
    {
     "ename": "SyntaxError",
     "evalue": "expected ':' (1681687098.py, line 4)",
     "output_type": "error",
     "traceback": [
      "\u001b[1;36m  Cell \u001b[1;32mIn[3], line 4\u001b[1;36m\u001b[0m\n\u001b[1;33m    if x == 10\u001b[0m\n\u001b[1;37m              ^\u001b[0m\n\u001b[1;31mSyntaxError\u001b[0m\u001b[1;31m:\u001b[0m expected ':'\n"
     ]
    }
   ],
   "source": [
    "# Definition:a>An exception occurs when an error is encountered during the execution of the program.\t\n",
    "# b>A syntax error occurs when the code does not follow the correct syntax or grammar of Python.\n",
    "\n",
    "if x == 10\n",
    "    print(\"x is 10\")  # SyntaxError: invalid syntax, missing colon"
   ]
  },
  {
   "cell_type": "code",
   "execution_count": 4,
   "id": "d35e68e8-e872-4a15-a765-b3cfcbe4c095",
   "metadata": {},
   "outputs": [
    {
     "data": {
      "text/plain": [
       "'Q2. What happens when an exception is not handled? Explain with an example.'"
      ]
     },
     "execution_count": 4,
     "metadata": {},
     "output_type": "execute_result"
    }
   ],
   "source": [
    "'''Q2. What happens when an exception is not handled? Explain with an example.'''"
   ]
  },
  {
   "cell_type": "code",
   "execution_count": 5,
   "id": "fc2215ac-acfe-4618-a5f2-8a0bc3f9eccc",
   "metadata": {},
   "outputs": [
    {
     "ename": "ZeroDivisionError",
     "evalue": "division by zero",
     "output_type": "error",
     "traceback": [
      "\u001b[1;31m---------------------------------------------------------------------------\u001b[0m",
      "\u001b[1;31mZeroDivisionError\u001b[0m                         Traceback (most recent call last)",
      "Cell \u001b[1;32mIn[5], line 4\u001b[0m\n\u001b[0;32m      2\u001b[0m num1\u001b[38;5;241m=\u001b[39m \u001b[38;5;241m0\u001b[39m\n\u001b[0;32m      3\u001b[0m num2\u001b[38;5;241m=\u001b[39m\u001b[38;5;241m0\u001b[39m\n\u001b[1;32m----> 4\u001b[0m result \u001b[38;5;241m=\u001b[39m \u001b[43mnum1\u001b[49m\u001b[38;5;241;43m/\u001b[39;49m\u001b[43mnum2\u001b[49m\n\u001b[0;32m      5\u001b[0m \u001b[38;5;28mprint\u001b[39m(\u001b[38;5;124m'\u001b[39m\u001b[38;5;124mthe result is: \u001b[39m\u001b[38;5;124m'\u001b[39m,result)\n",
      "\u001b[1;31mZeroDivisionError\u001b[0m: division by zero"
     ]
    }
   ],
   "source": [
    "# When an exception is raised in Python and it is not handled, the program will terminate abruptly. Python will generate an error message that includes the type of exception, along with a traceback of where the error occurred. If the exception is not caught using try and except blocks, the program will stop, and any remaining code will not be executed.\n",
    "num1= 0\n",
    "num2=0\n",
    "result = num1/num2\n",
    "print('the result is: ',result)"
   ]
  },
  {
   "cell_type": "code",
   "execution_count": 6,
   "id": "0b60561c-d25b-4429-bd27-f96b318ebe38",
   "metadata": {},
   "outputs": [
    {
     "data": {
      "text/plain": [
       "'Q3. Which Python statements are used to catch and handle exceptions? Explain with an example.'"
      ]
     },
     "execution_count": 6,
     "metadata": {},
     "output_type": "execute_result"
    }
   ],
   "source": [
    "'''Q3. Which Python statements are used to catch and handle exceptions? Explain with an example.'''"
   ]
  },
  {
   "cell_type": "code",
   "execution_count": 9,
   "id": "7089ce61-9a58-4ae8-bce0-fd7ebd940817",
   "metadata": {},
   "outputs": [
    {
     "name": "stdin",
     "output_type": "stream",
     "text": [
      "Enter first number:  12\n",
      "Enter second number:  0\n"
     ]
    },
    {
     "name": "stdout",
     "output_type": "stream",
     "text": [
      "You cannot divide by zero!\n",
      "Execution completed\n"
     ]
    }
   ],
   "source": [
    "try:\n",
    "    num1=int(input('Enter first number: '))\n",
    "    num2=int(input('Enter second number: '))\n",
    "    result = num1/num2\n",
    "except ZeroDivisionError:\n",
    "    print('You cannot divide by zero!')\n",
    "except ValueError:\n",
    "    print('You cannot divide these invalid integer values!')\n",
    "else:\n",
    "    print('The result of the division is',result)\n",
    "finally:\n",
    "    print('Execution completed')"
   ]
  },
  {
   "cell_type": "code",
   "execution_count": 10,
   "id": "cf9758b3-58ec-4221-958a-466b48b494fe",
   "metadata": {},
   "outputs": [
    {
     "data": {
      "text/plain": [
       "'What are Custom Exceptions in python? Why do we need Custom Exceptions? Explain with an example.'"
      ]
     },
     "execution_count": 10,
     "metadata": {},
     "output_type": "execute_result"
    }
   ],
   "source": [
    "'''What are Custom Exceptions in python? Why do we need Custom Exceptions? Explain with an example.'''"
   ]
  },
  {
   "cell_type": "code",
   "execution_count": 11,
   "id": "1e0a6d2b-196f-4047-978e-139e04cfc0c7",
   "metadata": {},
   "outputs": [
    {
     "data": {
      "text/plain": [
       "\"Custom Exceptions in Python\\nIn Python, custom exceptions are user-defined exceptions that allow you to create your own error types to handle specific situations in your program. While Python provides built-in exceptions (like ZeroDivisionError, ValueError, etc.), custom exceptions allow you to define exceptions that are tailored to your application's needs, providing more clarity and control over how errors are handled.\\n\\nA custom exception is typically created by subclassing the built-in Exception class or one of its subclasses. This way, you can define a new exception class that fits your program's domain.\\n\\nWhy Do We Need Custom Exceptions?\\nSpecific Error Handling: Custom exceptions provide a way to create exceptions specific to your application's logic, making it easier to identify and handle specific error conditions.\\n\\nImproved Readability: Custom exceptions can make your code more readable by providing clear names and messages for particular types of errors.\\n\\nBetter Debugging and Maintenance: They can make debugging easier since you can raise meaningful, domain-specific exceptions and provide useful error messages.\\n\\nControlled Exception Handling: Custom exceptions give you more fine-grained control over how errors are handled, especially in complex systems.\""
      ]
     },
     "execution_count": 11,
     "metadata": {},
     "output_type": "execute_result"
    }
   ],
   "source": [
    "'''Custom Exceptions in Python\n",
    "In Python, custom exceptions are user-defined exceptions that allow you to create your own error types to handle specific situations in your program. While Python provides built-in exceptions (like ZeroDivisionError, ValueError, etc.), custom exceptions allow you to define exceptions that are tailored to your application's needs, providing more clarity and control over how errors are handled.\n",
    "\n",
    "A custom exception is typically created by subclassing the built-in Exception class or one of its subclasses. This way, you can define a new exception class that fits your program's domain.\n",
    "\n",
    "Why Do We Need Custom Exceptions?\n",
    "Specific Error Handling: Custom exceptions provide a way to create exceptions specific to your application's logic, making it easier to identify and handle specific error conditions.\n",
    "\n",
    "Improved Readability: Custom exceptions can make your code more readable by providing clear names and messages for particular types of errors.\n",
    "\n",
    "Better Debugging and Maintenance: They can make debugging easier since you can raise meaningful, domain-specific exceptions and provide useful error messages.\n",
    "\n",
    "Controlled Exception Handling: Custom exceptions give you more fine-grained control over how errors are handled, especially in complex systems.'''"
   ]
  },
  {
   "cell_type": "code",
   "execution_count": 19,
   "id": "73214b4c-4ce1-47c5-b335-f8188969c0f9",
   "metadata": {},
   "outputs": [],
   "source": [
    "class InsufficientFundsError(Exception):\n",
    "    def __init__(self,message):\n",
    "        \n",
    "        self.message = message\n",
    "    "
   ]
  },
  {
   "cell_type": "code",
   "execution_count": 21,
   "id": "5568c925-4828-47c3-a295-2546ba353d91",
   "metadata": {},
   "outputs": [
    {
     "name": "stdout",
     "output_type": "stream",
     "text": [
      "Error: Attempted to withdraw1500, but the balance is: 1000\n"
     ]
    }
   ],
   "source": [
    "class BankAccount:\n",
    "    def __init__(self,balance):\n",
    "        self.balance = balance\n",
    "    def withdraw(self,amount):\n",
    "        if amount>self.balance:\n",
    "            raise InsufficientFundsError(f'Attempted to withdraw{amount}, but the balance is: {self.balance}')\n",
    "        else:\n",
    "            self.balance -= amount\n",
    "            print(f'Withdrawal of {amount} successful. New balance:{self.balance}')\n",
    "account = BankAccount(1000)\n",
    "try:\n",
    "    account.withdraw(1500)\n",
    "except InsufficientFundsError as e:\n",
    "    print(f'Error: {e}')\n"
   ]
  },
  {
   "cell_type": "code",
   "execution_count": null,
   "id": "341f6aa0-c40b-478d-abc2-0aa180c93062",
   "metadata": {},
   "outputs": [],
   "source": []
  }
 ],
 "metadata": {
  "kernelspec": {
   "display_name": "Python 3 (ipykernel)",
   "language": "python",
   "name": "python3"
  },
  "language_info": {
   "codemirror_mode": {
    "name": "ipython",
    "version": 3
   },
   "file_extension": ".py",
   "mimetype": "text/x-python",
   "name": "python",
   "nbconvert_exporter": "python",
   "pygments_lexer": "ipython3",
   "version": "3.13.2"
  }
 },
 "nbformat": 4,
 "nbformat_minor": 5
}
