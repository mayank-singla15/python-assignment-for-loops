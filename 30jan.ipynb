{
 "cells": [
  {
   "cell_type": "code",
   "execution_count": 1,
   "id": "33465aa6-c26d-407d-bca1-96dd4b3b7af1",
   "metadata": {},
   "outputs": [
    {
     "data": {
      "text/plain": [
       "'1. Write a program to accept percentage from the user and display the grade according to the following \\ncriteria: \\nMarks \\nGrade \\n>90 \\nA \\n>80 and < 90 \\nB \\n>=60 and <=80 \\nC \\nbelow 60 \\nD \\n'"
      ]
     },
     "execution_count": 1,
     "metadata": {},
     "output_type": "execute_result"
    }
   ],
   "source": [
    "'''1. Write a program to accept percentage from the user and display the grade according to the following \n",
    "criteria: \n",
    "Marks \n",
    "Grade \n",
    ">90 \n",
    "A \n",
    ">80 and < 90 \n",
    "B \n",
    ">=60 and <=80 \n",
    "C \n",
    "below 60 \n",
    "D \n",
    "'''"
   ]
  },
  {
   "cell_type": "code",
   "execution_count": 5,
   "id": "018b6ad3-2cd7-44b2-bafd-7e04f6fe8b9c",
   "metadata": {},
   "outputs": [
    {
     "name": "stdin",
     "output_type": "stream",
     "text": [
      "enter  percentage you achieved this session to know your Grades 85\n"
     ]
    },
    {
     "name": "stdout",
     "output_type": "stream",
     "text": [
      "Grade B\n"
     ]
    }
   ],
   "source": [
    "per=int(input('enter  percentage you achieved this session to know your Grades'))\n",
    "if per>90:\n",
    "    print('Grade A')\n",
    "elif per >80 and per <=90:\n",
    "    print ('Grade B')\n",
    "elif per>= 60 and per<=80:\n",
    "    print('Grade C')\n",
    "else:\n",
    "    print('Grade D')\n",
    "    "
   ]
  },
  {
   "cell_type": "code",
   "execution_count": 6,
   "id": "de2a9171-9b4a-4770-805f-fbe65666226c",
   "metadata": {},
   "outputs": [
    {
     "data": {
      "text/plain": [
       "'2. Write a program to accept the cost price of a bike and display the road tax to be paid according to the \\nfollowing criteria: \\nTax \\n15% \\n10% \\n5% \\nCost Price(in Rs) \\n>100000 \\n>50000 and <= 100000 \\n<= 50000 \\n'"
      ]
     },
     "execution_count": 6,
     "metadata": {},
     "output_type": "execute_result"
    }
   ],
   "source": [
    "'''2. Write a program to accept the cost price of a bike and display the road tax to be paid according to the \n",
    "following criteria: \n",
    "Tax \n",
    "15% \n",
    "10% \n",
    "5% \n",
    "Cost Price(in Rs) \n",
    ">100000 \n",
    ">50000 and <= 100000 \n",
    "<= 50000 \n",
    "'''\n"
   ]
  },
  {
   "cell_type": "code",
   "execution_count": 11,
   "id": "a3c3dc00-2b18-49a2-bfc5-c22dde9c7c71",
   "metadata": {},
   "outputs": [
    {
     "name": "stdin",
     "output_type": "stream",
     "text": [
      "Enter cost price(in Rs) of bike 45000\n"
     ]
    },
    {
     "name": "stdout",
     "output_type": "stream",
     "text": [
      "2250.0\n"
     ]
    }
   ],
   "source": [
    "cost=int(input('Enter cost price(in Rs) of bike'))\n",
    "if cost>100000:\n",
    "    print((15/100)*cost)\n",
    "elif cost>50000 and cost<=100000:\n",
    "    print( cost/10)\n",
    "else:\n",
    "   print (cost/20)\n",
    "\n",
    "    "
   ]
  },
  {
   "cell_type": "code",
   "execution_count": 14,
   "id": "73721863-7108-4c71-bf8b-53d68c653acf",
   "metadata": {},
   "outputs": [
    {
     "name": "stdin",
     "output_type": "stream",
     "text": [
      "input name of the city you want to explore Delhi\n"
     ]
    },
    {
     "name": "stdout",
     "output_type": "stream",
     "text": [
      "Red Fort\n"
     ]
    }
   ],
   "source": [
    "'''3. Accept any city from the user and display monuments of that city. \n",
    "City \n",
    "Delhi \n",
    "Agra \n",
    "Monument \n",
    "Red Fort \n",
    "Taj Mahal \n",
    "Jaipur \n",
    "Jal Mahal \n",
    "'''\n",
    "city=input('input name of the city you want to explore')\n",
    "if city == 'Delhi':\n",
    "    print('Red Fort')\n",
    "elif  city == 'Agra':\n",
    "    print('Taj Mahal')\n",
    "elif  city == 'Jaipur':\n",
    "    print('Jal Mahal')    "
   ]
  },
  {
   "cell_type": "code",
   "execution_count": 35,
   "id": "4550ae4d-5a78-4b4c-9b0c-ffa80c45d340",
   "metadata": {},
   "outputs": [
    {
     "data": {
      "text/plain": [
       "[0.0,\n",
       " 0.3333333333333333,\n",
       " 0.6666666666666666,\n",
       " 1.0,\n",
       " 1.3333333333333333,\n",
       " 1.6666666666666667,\n",
       " 2.0,\n",
       " 2.3333333333333335,\n",
       " 2.6666666666666665,\n",
       " 3.0,\n",
       " 3.3333333333333335]"
      ]
     },
     "execution_count": 35,
     "metadata": {},
     "output_type": "execute_result"
    }
   ],
   "source": [
    "'''4. Check how many times a given number can be divided by 3 before it is less than or equal to 10. \n",
    "'''\n",
    "\n",
    "l1=[]\n",
    "n=0\n",
    "while n<=10:\n",
    "    x = n/3\n",
    "    l1.append(x)\n",
    "    n=n+1\n",
    "l1   \n",
    "    \n",
    "        \n",
    "        \n",
    "\n",
    "  \n",
    "   "
   ]
  },
  {
   "cell_type": "code",
   "execution_count": 36,
   "id": "cf07c101-2b15-4ee0-bbcd-51938b515de1",
   "metadata": {},
   "outputs": [
    {
     "data": {
      "text/plain": [
       "[0.0,\n",
       " 0.3333333333333333,\n",
       " 0.6666666666666666,\n",
       " 1.0,\n",
       " 1.3333333333333333,\n",
       " 1.6666666666666667,\n",
       " 2.0,\n",
       " 2.3333333333333335,\n",
       " 2.6666666666666665,\n",
       " 3.0,\n",
       " 3.3333333333333335]"
      ]
     },
     "execution_count": 36,
     "metadata": {},
     "output_type": "execute_result"
    }
   ],
   "source": [
    "'''5. Why and When to Use while Loop in Python give a detailed description with example \n",
    "\n",
    "The while loop in Python is used when you want to repeat a block of code as long as a certain condition is True. Unlike the for loop, which iterates over a sequence (like a list or range), the while loop continues indefinitely until the specified condition evaluates to False'''\n"
   ]
  },
  {
   "cell_type": "code",
   "execution_count": 42,
   "id": "446ccddc-39ad-484f-8c87-c15a488e6e05",
   "metadata": {},
   "outputs": [
    {
     "name": "stdout",
     "output_type": "stream",
     "text": [
      "0\n",
      "1\n",
      "1\n",
      "2\n",
      "3\n",
      "5\n",
      "8\n",
      "13\n",
      "21\n",
      "34\n"
     ]
    }
   ],
   "source": [
    "# first ten elements of fibonacci series\n",
    "a,b,n=0,1,0\n",
    "while n <10:\n",
    "    print(a)\n",
    "    \n",
    "    a,b=b,a+b\n",
    "    n=n+1"
   ]
  },
  {
   "cell_type": "code",
   "execution_count": null,
   "id": "f94ea3d9-9dc0-408d-8021-12b4f08aaa4b",
   "metadata": {},
   "outputs": [],
   "source": [
    "'''6. Use nested while loop to print 3 different pattern. '''\n",
    "### Right Angled Triangle Pattern\n",
    "rows = 5\n",
    "i = 1\n",
    "while i <= rows:\n",
    "    j = 1\n",
    "    while j <= i:\n",
    "        print(\"*\", end=\" \")\n",
    "        j += 1\n",
    "    print()\n",
    "    i += 1\n",
    "\n",
    "\n",
    "### Inverted Right Angled Triangle Pattern\n",
    "\n",
    "rows = 5\n",
    "i = rows\n",
    "while i >= 1:\n",
    "    j = 1\n",
    "    while j <= i:\n",
    "        print(\"*\", end=\" \")\n",
    "        j += 1\n",
    "    print()\n",
    "    i -= 1\n",
    "\n",
    "\n",
    "\n",
    "\n",
    "### Pyramid Pattern\n",
    "\n",
    "rows = 5\n",
    "i = 1\n",
    "while i <= rows:\n",
    "    # Print leading spaces\n",
    "    j = 1\n",
    "    while j <= rows - i:\n",
    "        print(\" \", end=\" \")\n",
    "        j += 1\n",
    "    \n",
    "    # Print stars\n",
    "    j = 1\n",
    "    while j <= (2 * i - 1):\n",
    "        print(\"*\", end=\" \")\n",
    "        j += 1\n",
    "    \n",
    "    print()\n",
    "    i += 1\n",
    "\n"
   ]
  },
  {
   "cell_type": "code",
   "execution_count": 43,
   "id": "fc676962-875e-4d0b-a754-910b326588f6",
   "metadata": {},
   "outputs": [
    {
     "name": "stdout",
     "output_type": "stream",
     "text": [
      "10\n",
      "9\n",
      "8\n",
      "7\n",
      "6\n",
      "5\n",
      "4\n",
      "3\n",
      "2\n",
      "1\n"
     ]
    }
   ],
   "source": [
    "'''7,8   Reverse a while loop to display numbers from 10 to 1 '''\n",
    "n=10\n",
    "while n>0:\n",
    "    print(n)\n",
    "    n=n-1"
   ]
  },
  {
   "cell_type": "code",
   "execution_count": null,
   "id": "9e974eef-74f1-412d-9598-0a59e6ae29fe",
   "metadata": {},
   "outputs": [],
   "source": []
  }
 ],
 "metadata": {
  "kernelspec": {
   "display_name": "Python 3 (ipykernel)",
   "language": "python",
   "name": "python3"
  },
  "language_info": {
   "codemirror_mode": {
    "name": "ipython",
    "version": 3
   },
   "file_extension": ".py",
   "mimetype": "text/x-python",
   "name": "python",
   "nbconvert_exporter": "python",
   "pygments_lexer": "ipython3",
   "version": "3.13.0"
  }
 },
 "nbformat": 4,
 "nbformat_minor": 5
}
