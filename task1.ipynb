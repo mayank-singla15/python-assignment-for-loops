{
 "cells": [
  {
   "cell_type": "code",
   "execution_count": 1,
   "id": "c0f022d3-751a-401a-9ac3-08cb99908a90",
   "metadata": {},
   "outputs": [
    {
     "data": {
      "text/plain": [
       "'Q1. Create a function which will take a list as an argument and return the product of all the numbers\\nafter creating a flat list.\\nUse the below-given list as an argument for your function.\\nlist1 = [1,2,3,4, [44,55,66, True], False, (34,56,78,89,34), {1,2,3,3,2,1}, {1:34, \"key2\": [55, 67, 78, 89], 4: (45,\\n22, 61, 34)}, [56, \\'data science\\'], \\'Machine Learning\\']\\nNote: you must extract numeric keys and values of the dictionary also.'"
      ]
     },
     "execution_count": 1,
     "metadata": {},
     "output_type": "execute_result"
    }
   ],
   "source": [
    "'''Q1. Create a function which will take a list as an argument and return the product of all the numbers\n",
    "after creating a flat list.\n",
    "Use the below-given list as an argument for your function.\n",
    "list1 = [1,2,3,4, [44,55,66, True], False, (34,56,78,89,34), {1,2,3,3,2,1}, {1:34, \"key2\": [55, 67, 78, 89], 4: (45,\n",
    "22, 61, 34)}, [56, 'data science'], 'Machine Learning']\n",
    "Note: you must extract numeric keys and values of the dictionary also.'''"
   ]
  },
  {
   "cell_type": "code",
   "execution_count": 5,
   "id": "47b2259e-7686-45bb-9f8f-f3dca7828f5a",
   "metadata": {},
   "outputs": [],
   "source": [
    "l1 = [1,2,3,4, [44,55,66, True], False, (34,56,78,89,34), {1,2,3,3,2,1}, {1:34, \"key2\": [55, 67, 78, 89], 4: (45,\n",
    "22, 61, 34)}, [56, 'data science'], 'Machine Learning']\n",
    "\n"
   ]
  },
  {
   "cell_type": "raw",
   "id": "dc88f938-2ed7-492c-943a-aab08e01cd36",
   "metadata": {},
   "source": [
    "\n",
    "\n"
   ]
  },
  {
   "cell_type": "code",
   "execution_count": null,
   "id": "13f5c8a3-9fdb-46fd-ae98-77c280f1ce1a",
   "metadata": {},
   "outputs": [],
   "source": []
  },
  {
   "cell_type": "code",
   "execution_count": 128,
   "id": "01e15c57-9212-407b-a11d-a7876ca6d12a",
   "metadata": {},
   "outputs": [],
   "source": [
    "\n",
    "def product(l):\n",
    "    from functools import reduce\n",
    "    l2=[]\n",
    "    for i in l:\n",
    "        if type(i)== int:\n",
    "            l2.append(i)\n",
    "        elif type(i) == list or type(i) == tuple or type(i) == set:\n",
    "            for j in i:\n",
    "                if type(j) == int:\n",
    "                     l2.append(j)\n",
    "        elif type(i) == dict:\n",
    "            for j in i.items():\n",
    "                 if type(j)== tuple:\n",
    "                     for m in j:\n",
    "                          if type(m) == int:\n",
    "                               l2.append(m)\n",
    "                          elif type(m)== list or type(m)==tuple:\n",
    "                              for n in m:\n",
    "                                   if type (n) == int:\n",
    "                                         l2.append(n)\n",
    "                                   \n",
    "               \n",
    "                \n",
    "    return reduce(lambda x, y: x * y, l2, 1)\n"
   ]
  },
  {
   "cell_type": "code",
   "execution_count": 130,
   "id": "9dd32172-d8bc-426b-8e23-084e16389175",
   "metadata": {},
   "outputs": [
    {
     "data": {
      "text/plain": [
       "4134711838987085478833841242112000"
      ]
     },
     "execution_count": 130,
     "metadata": {},
     "output_type": "execute_result"
    }
   ],
   "source": [
    "\n",
    "product(l1)\n",
    "\n"
   ]
  },
  {
   "cell_type": "code",
   "execution_count": 131,
   "id": "ee6f5def-df26-4f8d-974c-1f9455ba12c2",
   "metadata": {},
   "outputs": [
    {
     "data": {
      "text/plain": [
       "'Q2. Write a python program for encrypting a message sent to you by your friend. The logic of encryption\\nshould be such that, for a the output should be z. For b, the output should be y. For c, the output should\\nbe x respectively. Also, the whitespace should be replaced with a dollar sign. Keep the punctuation\\nmarks unchanged.\\nInput Sentence: I want to become a Data Scientist.\\nEncrypt the above input sentence using the program you just created.\\nNote: Convert the given input sentence into lowercase before encrypting. The final output should be\\nlowercase.'"
      ]
     },
     "execution_count": 131,
     "metadata": {},
     "output_type": "execute_result"
    }
   ],
   "source": [
    "'''Q2. Write a python program for encrypting a message sent to you by your friend. The logic of encryption\n",
    "should be such that, for a the output should be z. For b, the output should be y. For c, the output should\n",
    "be x respectively. Also, the whitespace should be replaced with a dollar sign. Keep the punctuation\n",
    "marks unchanged.\n",
    "Input Sentence: I want to become a Data Scientist.\n",
    "Encrypt the above input sentence using the program you just created.\n",
    "Note: Convert the given input sentence into lowercase before encrypting. The final output should be\n",
    "lowercase.'''"
   ]
  },
  {
   "cell_type": "code",
   "execution_count": 142,
   "id": "16d5acdc-1105-45dd-b669-9c976be654d1",
   "metadata": {},
   "outputs": [
    {
     "name": "stdout",
     "output_type": "stream",
     "text": [
      "Encrypted messsage:  r$dzmg$gl$yvxlnv$z$wzgz$hxrvmgrhg.\n"
     ]
    }
   ],
   "source": [
    "\n",
    "def encrypt_message(message):\n",
    "    message= message.lower()\n",
    "    encrypted_message= ''\n",
    "    for char in message:\n",
    "        if char.isalpha():\n",
    "            encrypted_char = chr(219 - ord(char)) \n",
    "            encrypted_message += encrypted_char\n",
    "        elif char == ' ':\n",
    "            encrypted_message += '$'\n",
    "        else:\n",
    "            encrypted_message += char\n",
    "\n",
    "\n",
    "\n",
    "\n",
    "    return encrypted_message    \n",
    "     \n",
    "input_sentence='I want to become a Data Scientist.'\n",
    "encrypted_sentence = encrypt_message(input_sentence)\n",
    "print('Encrypted messsage: ', encrypted_sentence )\n",
    "\n"
   ]
  },
  {
   "cell_type": "code",
   "execution_count": null,
   "id": "aaef69b6-a96b-48ad-b126-9b1503cabe4b",
   "metadata": {},
   "outputs": [],
   "source": []
  },
  {
   "cell_type": "code",
   "execution_count": null,
   "id": "49999baf-30a6-406a-b585-3771835ea31a",
   "metadata": {},
   "outputs": [],
   "source": []
  }
 ],
 "metadata": {
  "kernelspec": {
   "display_name": "Python 3 (ipykernel)",
   "language": "python",
   "name": "python3"
  },
  "language_info": {
   "codemirror_mode": {
    "name": "ipython",
    "version": 3
   },
   "file_extension": ".py",
   "mimetype": "text/x-python",
   "name": "python",
   "nbconvert_exporter": "python",
   "pygments_lexer": "ipython3",
   "version": "3.13.2"
  }
 },
 "nbformat": 4,
 "nbformat_minor": 5
}
